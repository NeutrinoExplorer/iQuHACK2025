{
  "nbformat": 4,
  "nbformat_minor": 0,
  "metadata": {
    "colab": {
      "provenance": [],
      "authorship_tag": "ABX9TyOQ0BmORVpweoNbn8DCQ0Fh",
      "include_colab_link": true
    },
    "kernelspec": {
      "name": "python3",
      "display_name": "Python 3"
    },
    "language_info": {
      "name": "python"
    }
  },
  "cells": [
    {
      "cell_type": "markdown",
      "metadata": {
        "id": "view-in-github",
        "colab_type": "text"
      },
      "source": [
        "<a href=\"https://colab.research.google.com/github/NeutrinoExplorer/iQuHACK2025/blob/main/Winter%20school%20training_4/Qiskit_dia4.ipynb\" target=\"_parent\"><img src=\"https://colab.research.google.com/assets/colab-badge.svg\" alt=\"Open In Colab\"/></a>"
      ]
    },
    {
      "cell_type": "code",
      "execution_count": null,
      "metadata": {
        "id": "9NbC2IlG7Hil"
      },
      "outputs": [],
      "source": [
        "%load_ext autoreload\n",
        "%autoreload 2"
      ]
    },
    {
      "cell_type": "code",
      "source": [
        "!pip install qiskit #instalar libreria Qiskit\n",
        "!pip install qiskit-aer #instalar modulo Aer de la libreria Qiskit\n",
        "!pip install pylatexenc #biblioteca de python que permite convertir textos a formato latex\n",
        "!pip install helpers #modulo de Qiskit con funciones especiales"
      ],
      "metadata": {
        "colab": {
          "base_uri": "https://localhost:8080/"
        },
        "id": "WUgs4ZUI7TIU",
        "outputId": "b12e8f17-ce8a-4287-cd7f-1f965c8e1aca"
      },
      "execution_count": null,
      "outputs": [
        {
          "output_type": "stream",
          "name": "stdout",
          "text": [
            "Collecting qiskit\n",
            "  Downloading qiskit-1.3.2-cp39-abi3-manylinux_2_17_x86_64.manylinux2014_x86_64.whl.metadata (12 kB)\n",
            "Collecting rustworkx>=0.15.0 (from qiskit)\n",
            "  Downloading rustworkx-0.16.0-cp39-abi3-manylinux_2_17_x86_64.manylinux2014_x86_64.whl.metadata (10 kB)\n",
            "Requirement already satisfied: numpy<3,>=1.17 in /usr/local/lib/python3.11/dist-packages (from qiskit) (1.26.4)\n",
            "Requirement already satisfied: scipy>=1.5 in /usr/local/lib/python3.11/dist-packages (from qiskit) (1.13.1)\n",
            "Requirement already satisfied: sympy>=1.3 in /usr/local/lib/python3.11/dist-packages (from qiskit) (1.13.1)\n",
            "Collecting dill>=0.3 (from qiskit)\n",
            "  Downloading dill-0.3.9-py3-none-any.whl.metadata (10 kB)\n",
            "Requirement already satisfied: python-dateutil>=2.8.0 in /usr/local/lib/python3.11/dist-packages (from qiskit) (2.8.2)\n",
            "Collecting stevedore>=3.0.0 (from qiskit)\n",
            "  Downloading stevedore-5.4.0-py3-none-any.whl.metadata (2.3 kB)\n",
            "Requirement already satisfied: typing-extensions in /usr/local/lib/python3.11/dist-packages (from qiskit) (4.12.2)\n",
            "Collecting symengine<0.14,>=0.11 (from qiskit)\n",
            "  Downloading symengine-0.13.0-cp311-cp311-manylinux_2_17_x86_64.manylinux2014_x86_64.whl.metadata (1.2 kB)\n",
            "Requirement already satisfied: six>=1.5 in /usr/local/lib/python3.11/dist-packages (from python-dateutil>=2.8.0->qiskit) (1.17.0)\n",
            "Collecting pbr>=2.0.0 (from stevedore>=3.0.0->qiskit)\n",
            "  Downloading pbr-6.1.0-py2.py3-none-any.whl.metadata (3.4 kB)\n",
            "Requirement already satisfied: mpmath<1.4,>=1.1.0 in /usr/local/lib/python3.11/dist-packages (from sympy>=1.3->qiskit) (1.3.0)\n",
            "Downloading qiskit-1.3.2-cp39-abi3-manylinux_2_17_x86_64.manylinux2014_x86_64.whl (6.8 MB)\n",
            "\u001b[2K   \u001b[90m━━━━━━━━━━━━━━━━━━━━━━━━━━━━━━━━━━━━━━━━\u001b[0m \u001b[32m6.8/6.8 MB\u001b[0m \u001b[31m71.7 MB/s\u001b[0m eta \u001b[36m0:00:00\u001b[0m\n",
            "\u001b[?25hDownloading dill-0.3.9-py3-none-any.whl (119 kB)\n",
            "\u001b[2K   \u001b[90m━━━━━━━━━━━━━━━━━━━━━━━━━━━━━━━━━━━━━━━━\u001b[0m \u001b[32m119.4/119.4 kB\u001b[0m \u001b[31m11.5 MB/s\u001b[0m eta \u001b[36m0:00:00\u001b[0m\n",
            "\u001b[?25hDownloading rustworkx-0.16.0-cp39-abi3-manylinux_2_17_x86_64.manylinux2014_x86_64.whl (2.1 MB)\n",
            "\u001b[2K   \u001b[90m━━━━━━━━━━━━━━━━━━━━━━━━━━━━━━━━━━━━━━━━\u001b[0m \u001b[32m2.1/2.1 MB\u001b[0m \u001b[31m77.0 MB/s\u001b[0m eta \u001b[36m0:00:00\u001b[0m\n",
            "\u001b[?25hDownloading stevedore-5.4.0-py3-none-any.whl (49 kB)\n",
            "\u001b[2K   \u001b[90m━━━━━━━━━━━━━━━━━━━━━━━━━━━━━━━━━━━━━━━━\u001b[0m \u001b[32m49.5/49.5 kB\u001b[0m \u001b[31m4.3 MB/s\u001b[0m eta \u001b[36m0:00:00\u001b[0m\n",
            "\u001b[?25hDownloading symengine-0.13.0-cp311-cp311-manylinux_2_17_x86_64.manylinux2014_x86_64.whl (49.7 MB)\n",
            "\u001b[2K   \u001b[90m━━━━━━━━━━━━━━━━━━━━━━━━━━━━━━━━━━━━━━━━\u001b[0m \u001b[32m49.7/49.7 MB\u001b[0m \u001b[31m21.5 MB/s\u001b[0m eta \u001b[36m0:00:00\u001b[0m\n",
            "\u001b[?25hDownloading pbr-6.1.0-py2.py3-none-any.whl (108 kB)\n",
            "\u001b[2K   \u001b[90m━━━━━━━━━━━━━━━━━━━━━━━━━━━━━━━━━━━━━━━━\u001b[0m \u001b[32m108.5/108.5 kB\u001b[0m \u001b[31m10.4 MB/s\u001b[0m eta \u001b[36m0:00:00\u001b[0m\n",
            "\u001b[?25hInstalling collected packages: symengine, rustworkx, pbr, dill, stevedore, qiskit\n",
            "Successfully installed dill-0.3.9 pbr-6.1.0 qiskit-1.3.2 rustworkx-0.16.0 stevedore-5.4.0 symengine-0.13.0\n",
            "Collecting qiskit-aer\n",
            "  Downloading qiskit_aer-0.16.0-cp311-cp311-manylinux_2_17_x86_64.manylinux2014_x86_64.whl.metadata (8.2 kB)\n",
            "Requirement already satisfied: qiskit>=1.1.0 in /usr/local/lib/python3.11/dist-packages (from qiskit-aer) (1.3.2)\n",
            "Requirement already satisfied: numpy>=1.16.3 in /usr/local/lib/python3.11/dist-packages (from qiskit-aer) (1.26.4)\n",
            "Requirement already satisfied: scipy>=1.0 in /usr/local/lib/python3.11/dist-packages (from qiskit-aer) (1.13.1)\n",
            "Requirement already satisfied: psutil>=5 in /usr/local/lib/python3.11/dist-packages (from qiskit-aer) (5.9.5)\n",
            "Requirement already satisfied: rustworkx>=0.15.0 in /usr/local/lib/python3.11/dist-packages (from qiskit>=1.1.0->qiskit-aer) (0.16.0)\n",
            "Requirement already satisfied: sympy>=1.3 in /usr/local/lib/python3.11/dist-packages (from qiskit>=1.1.0->qiskit-aer) (1.13.1)\n",
            "Requirement already satisfied: dill>=0.3 in /usr/local/lib/python3.11/dist-packages (from qiskit>=1.1.0->qiskit-aer) (0.3.9)\n",
            "Requirement already satisfied: python-dateutil>=2.8.0 in /usr/local/lib/python3.11/dist-packages (from qiskit>=1.1.0->qiskit-aer) (2.8.2)\n",
            "Requirement already satisfied: stevedore>=3.0.0 in /usr/local/lib/python3.11/dist-packages (from qiskit>=1.1.0->qiskit-aer) (5.4.0)\n",
            "Requirement already satisfied: typing-extensions in /usr/local/lib/python3.11/dist-packages (from qiskit>=1.1.0->qiskit-aer) (4.12.2)\n",
            "Requirement already satisfied: symengine<0.14,>=0.11 in /usr/local/lib/python3.11/dist-packages (from qiskit>=1.1.0->qiskit-aer) (0.13.0)\n",
            "Requirement already satisfied: six>=1.5 in /usr/local/lib/python3.11/dist-packages (from python-dateutil>=2.8.0->qiskit>=1.1.0->qiskit-aer) (1.17.0)\n",
            "Requirement already satisfied: pbr>=2.0.0 in /usr/local/lib/python3.11/dist-packages (from stevedore>=3.0.0->qiskit>=1.1.0->qiskit-aer) (6.1.0)\n",
            "Requirement already satisfied: mpmath<1.4,>=1.1.0 in /usr/local/lib/python3.11/dist-packages (from sympy>=1.3->qiskit>=1.1.0->qiskit-aer) (1.3.0)\n",
            "Downloading qiskit_aer-0.16.0-cp311-cp311-manylinux_2_17_x86_64.manylinux2014_x86_64.whl (12.4 MB)\n",
            "\u001b[2K   \u001b[90m━━━━━━━━━━━━━━━━━━━━━━━━━━━━━━━━━━━━━━━━\u001b[0m \u001b[32m12.4/12.4 MB\u001b[0m \u001b[31m82.3 MB/s\u001b[0m eta \u001b[36m0:00:00\u001b[0m\n",
            "\u001b[?25hInstalling collected packages: qiskit-aer\n",
            "Successfully installed qiskit-aer-0.16.0\n",
            "Collecting pylatexenc\n",
            "  Downloading pylatexenc-2.10.tar.gz (162 kB)\n",
            "\u001b[2K     \u001b[90m━━━━━━━━━━━━━━━━━━━━━━━━━━━━━━━━━━━━━━━━\u001b[0m \u001b[32m162.6/162.6 kB\u001b[0m \u001b[31m5.1 MB/s\u001b[0m eta \u001b[36m0:00:00\u001b[0m\n",
            "\u001b[?25h  Preparing metadata (setup.py) ... \u001b[?25l\u001b[?25hdone\n",
            "Building wheels for collected packages: pylatexenc\n",
            "  Building wheel for pylatexenc (setup.py) ... \u001b[?25l\u001b[?25hdone\n",
            "  Created wheel for pylatexenc: filename=pylatexenc-2.10-py3-none-any.whl size=136816 sha256=d88b4a3fe60d27c462921479c5f33e2b3b4937569ddbb02b721a2b9ea9d8aa51\n",
            "  Stored in directory: /root/.cache/pip/wheels/b1/7a/33/9fdd892f784ed4afda62b685ae3703adf4c91aa0f524c28f03\n",
            "Successfully built pylatexenc\n",
            "Installing collected packages: pylatexenc\n",
            "Successfully installed pylatexenc-2.10\n",
            "Collecting helpers\n",
            "  Downloading helpers-0.2.0-py3-none-any.whl.metadata (708 bytes)\n",
            "Downloading helpers-0.2.0-py3-none-any.whl (2.3 kB)\n",
            "Installing collected packages: helpers\n",
            "Successfully installed helpers-0.2.0\n"
          ]
        }
      ]
    },
    {
      "cell_type": "code",
      "source": [
        "import math\n",
        "import numpy as np\n",
        "import matplotlib.pyplot as plt\n",
        "import random\n",
        "\n",
        "# Importing standard Qiskit libraries\n",
        "import qiskit\n",
        "import qiskit_aer\n",
        "import pylatexenc\n",
        "from qiskit import *\n",
        "from qiskit_aer import *\n",
        "from qiskit.compiler import transpile, assemble\n",
        "from qiskit.visualization import plot_histogram, plot_bloch_vector\n",
        "from qiskit.quantum_info import Statevector, DensityMatrix, random_statevector\n",
        "from qiskit.quantum_info.operators import Operator, Pauli\n",
        "from qiskit.circuit.library import GroverOperator, MCMT, ZGate\n",
        "\n",
        "# QWS helpers\n",
        "#from helpers import convert_to_basis_string, get_all_pauli_strings,interactive_sine_waves, double_slit_experiment\n",
        "\n",
        "# Bokeh interactive plotting\n",
        "from bokeh.plotting import figure, output_notebook, show\n",
        "from bokeh.models import Slider, ColumnDataSource, CustomJS, Range1d, Toggle, Button, SetValue\n",
        "from bokeh.layouts import column, row\n",
        "from bokeh.io import push_notebook\n",
        "# Initialize the notebook output\n",
        "output_notebook()\n",
        "\n",
        "nshots = 10000"
      ],
      "metadata": {
        "id": "qEL-vGa67aCs"
      },
      "execution_count": null,
      "outputs": []
    },
    {
      "cell_type": "markdown",
      "source": [
        "# ALGORITMO DE SHOR\n",
        "Implementé el algoritmo de Shor en Python. Si lo desea, puede explorar el código o interactuar con el algoritmo ejecutando la función en la celda que aparece a continuación."
      ],
      "metadata": {
        "id": "l0ROjShX7kgI"
      }
    },
    {
      "cell_type": "code",
      "source": [
        "# Importamos las bibliotecas necesarias.\n",
        "import numpy as np  # Para cálculos numéricos.\n",
        "import matplotlib.pyplot as plt  # Para graficar resultados.\n",
        "from math import sqrt, gcd, ceil, log2  # Para operaciones matemáticas básicas.\n",
        "\n",
        "# Explicación del algoritmo: https://en.wikipedia.org/wiki/Shor%27s_algorithm\n",
        "\n",
        "def shor_algorithm(plot_qft=False, safety_mode=True):\n",
        "    \"\"\"Simulador del Algoritmo de Shor diseñado por Om Joshi.\n",
        "\n",
        "    Parámetros:\n",
        "        plot_qft (bool): Si es True, grafica la QFT (Transformada Cuántica de Fourier).\n",
        "        safety_mode (bool): Si es True, evita cálculos con números muy grandes.\n",
        "    \"\"\"\n",
        "    print(\"Shor's Algorithm Simulator, designed by Om Joshi\")\n",
        "\n",
        "    # Pedimos al usuario el número N que desea factorizar.\n",
        "    N = int(input(\"What number do you want to factor? N = \"))  # Número a factorizar.\n",
        "    Q = 2**ceil(log2(N))  # Calculamos la potencia de 2 más cercana y mayor o igual a N.\n",
        "\n",
        "    # Modo de seguridad: evita cálculos intensos si N > 80.\n",
        "    if N > 80 and safety_mode:\n",
        "        raise ValueError(\"This will probably break your computer. Please re-run with a smaller value of N or with safety_mode=False\")\n",
        "\n",
        "    # Generamos la Transformada Cuántica de Fourier (QFT).\n",
        "    qft = np.zeros((Q, Q), dtype='complex')  # Inicializamos una matriz para la QFT.\n",
        "    root_lookup = {}  # Diccionario para memoización (guardar raíces ya calculadas).\n",
        "    for i in range(Q):\n",
        "        for j in range(Q):\n",
        "            if i * j in root_lookup:  # Si ya calculamos esta raíz, la usamos.\n",
        "                qft[i][j] = root_lookup[i * j]\n",
        "            else:  # Calculamos la raíz de la unidad y la guardamos.\n",
        "                root = np.exp(1j * 2 * np.pi * i * j / Q) / sqrt(Q)\n",
        "                root_lookup[i * j] = root\n",
        "                qft[i][j] = root\n",
        "\n",
        "    # Bucle principal: intentamos encontrar un valor adecuado para x.\n",
        "    while True:\n",
        "        # Pedimos al usuario que elija un número x tal que 1 < x < N.\n",
        "        x = int(input(f\"Pick a number x where 1 < x < {N}: x = \"))\n",
        "        if x <= 1 or x >= N:  # Validación: si x no está en el rango correcto, pedimos otro valor.\n",
        "            continue\n",
        "\n",
        "        # Calculamos el máximo común divisor (gcd) entre N y x.\n",
        "        if (g := gcd(N, x)) != 1:\n",
        "            print(f\"Hooray! gcd({N},{x}) = {g} which is a factor of {N}.\")\n",
        "            break  # Si encontramos un factor no trivial, terminamos.\n",
        "\n",
        "        # Simulamos el registro cuántico r_reg como un vector inicializado en cero.\n",
        "        r_reg = np.zeros((Q), dtype='complex')\n",
        "\n",
        "        # Simulamos una medición parcial en el registro de potencias módulo N.\n",
        "        target = pow(x, int(np.random.choice(range(Q))), N)  # Elegimos un valor aleatorio.\n",
        "\n",
        "        # Colapsamos el estado cuántico a los valores r donde x^r ≡ target mod N.\n",
        "        for i in range(Q):\n",
        "            if pow(x, i, N) == target:  # Si cumple la condición, lo agregamos al estado.\n",
        "                r_reg[i] = 1\n",
        "\n",
        "        r_reg /= np.linalg.norm(r_reg)  # Normalizamos el vector de estado.\n",
        "\n",
        "        # Aplicamos la Transformada Cuántica de Fourier (QFT).\n",
        "        k_reg = qft @ r_reg  # Transformamos el estado al dominio k.\n",
        "        k_abs = np.abs(k_reg * k_reg)  # Calculamos las probabilidades de cada valor k.\n",
        "\n",
        "        if plot_qft:\n",
        "            # Graficamos las probabilidades en el dominio k si plot_qft=True.\n",
        "            fig, ax = plt.subplots()\n",
        "            ax.plot(range(Q), k_abs, 'o')\n",
        "            ax.set_title(f\"QFT for N={N} Q={Q} x={x}\")\n",
        "            ax.set_xlim(-Q / 10, Q + Q / 10)\n",
        "            ax.set_xlabel(\"k\")\n",
        "            ax.set_ylabel(\"P(k)\")\n",
        "\n",
        "        # Simulamos mediciones en el dominio k usando las probabilidades calculadas.\n",
        "        top = 20  # Número de valores principales que mediremos.\n",
        "        k_top = np.random.choice(range(Q), top, p=k_abs) / Q\n",
        "        print(f\"These are the approximate values of c/s after {top} measurements:\")\n",
        "        print(k_top)\n",
        "        print(\"Each value is very close to a fraction with a small denominator s_i.\")\n",
        "\n",
        "        # Pedimos al usuario que estime el período s basado en los resultados medidos.\n",
        "        s = int(input(\"What do you think s = lcm(s_i) is? s = \"))\n",
        "\n",
        "        # Verificamos si encontramos un período válido (s debe ser par y no trivial).\n",
        "        if s % 2 == 0 and (root := pow(x, s // 2, N)) != N - 1:\n",
        "            print(f\"If everything went right, {N} = {gcd(N, root + 1)} * {gcd(N, root - 1)}.\")\n",
        "            break\n",
        "        print(\"You were unlucky! Try again with a different x value!\")\n"
      ],
      "metadata": {
        "id": "TAm1h2zV7qKQ"
      },
      "execution_count": null,
      "outputs": []
    },
    {
      "cell_type": "code",
      "source": [
        "shor_algorithm(plot_qft=True)\n"
      ],
      "metadata": {
        "id": "GA_95cUM8Y26",
        "outputId": "d7349edc-e910-4ea4-9c53-da0ae742478d",
        "colab": {
          "base_uri": "https://localhost:8080/"
        }
      },
      "execution_count": null,
      "outputs": [
        {
          "output_type": "stream",
          "name": "stdout",
          "text": [
            "Shor's Algorithm Simulator, designed by Om Joshi\n",
            "What number do you want to factor? N = 50\n",
            "Pick a number x where 1 < x < 50: x = 2\n",
            "Hooray! gcd(50,2) = 2 which is a factor of 50.\n"
          ]
        }
      ]
    }
  ]
}