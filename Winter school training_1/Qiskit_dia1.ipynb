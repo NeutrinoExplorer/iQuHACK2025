{
  "nbformat": 4,
  "nbformat_minor": 0,
  "metadata": {
    "colab": {
      "provenance": [],
      "authorship_tag": "ABX9TyMpUDqVH+vuXjzVys9M8RsD",
      "include_colab_link": true
    },
    "kernelspec": {
      "name": "python3",
      "display_name": "Python 3"
    },
    "language_info": {
      "name": "python"
    }
  },
  "cells": [
    {
      "cell_type": "markdown",
      "metadata": {
        "id": "view-in-github",
        "colab_type": "text"
      },
      "source": [
        "<a href=\"https://colab.research.google.com/github/NeutrinoExplorer/iQuHACK2025/blob/main/Winter%20school%20training_1/Qiskit_dia1.ipynb\" target=\"_parent\"><img src=\"https://colab.research.google.com/assets/colab-badge.svg\" alt=\"Open In Colab\"/></a>"
      ]
    },
    {
      "cell_type": "code",
      "execution_count": null,
      "metadata": {
        "id": "fhw-xhH1bCa1"
      },
      "outputs": [],
      "source": [
        "%load_ext autoreload\n",
        "%autoreload 2"
      ]
    },
    {
      "cell_type": "code",
      "source": [
        "!pip install qiskit #instalar libreria Qiskit"
      ],
      "metadata": {
        "colab": {
          "base_uri": "https://localhost:8080/"
        },
        "id": "M6VNeW8ebLeA",
        "outputId": "7be8afec-a080-46f7-a96d-ffe33c8c85a7"
      },
      "execution_count": null,
      "outputs": [
        {
          "output_type": "stream",
          "name": "stdout",
          "text": [
            "Collecting qiskit\n",
            "  Downloading qiskit-1.3.2-cp39-abi3-manylinux_2_17_x86_64.manylinux2014_x86_64.whl.metadata (12 kB)\n",
            "Collecting rustworkx>=0.15.0 (from qiskit)\n",
            "  Downloading rustworkx-0.16.0-cp39-abi3-manylinux_2_17_x86_64.manylinux2014_x86_64.whl.metadata (10 kB)\n",
            "Requirement already satisfied: numpy<3,>=1.17 in /usr/local/lib/python3.11/dist-packages (from qiskit) (1.26.4)\n",
            "Requirement already satisfied: scipy>=1.5 in /usr/local/lib/python3.11/dist-packages (from qiskit) (1.13.1)\n",
            "Requirement already satisfied: sympy>=1.3 in /usr/local/lib/python3.11/dist-packages (from qiskit) (1.13.1)\n",
            "Collecting dill>=0.3 (from qiskit)\n",
            "  Downloading dill-0.3.9-py3-none-any.whl.metadata (10 kB)\n",
            "Requirement already satisfied: python-dateutil>=2.8.0 in /usr/local/lib/python3.11/dist-packages (from qiskit) (2.8.2)\n",
            "Collecting stevedore>=3.0.0 (from qiskit)\n",
            "  Downloading stevedore-5.4.0-py3-none-any.whl.metadata (2.3 kB)\n",
            "Requirement already satisfied: typing-extensions in /usr/local/lib/python3.11/dist-packages (from qiskit) (4.12.2)\n",
            "Collecting symengine<0.14,>=0.11 (from qiskit)\n",
            "  Downloading symengine-0.13.0-cp311-cp311-manylinux_2_17_x86_64.manylinux2014_x86_64.whl.metadata (1.2 kB)\n",
            "Requirement already satisfied: six>=1.5 in /usr/local/lib/python3.11/dist-packages (from python-dateutil>=2.8.0->qiskit) (1.17.0)\n",
            "Collecting pbr>=2.0.0 (from stevedore>=3.0.0->qiskit)\n",
            "  Downloading pbr-6.1.0-py2.py3-none-any.whl.metadata (3.4 kB)\n",
            "Requirement already satisfied: mpmath<1.4,>=1.1.0 in /usr/local/lib/python3.11/dist-packages (from sympy>=1.3->qiskit) (1.3.0)\n",
            "Downloading qiskit-1.3.2-cp39-abi3-manylinux_2_17_x86_64.manylinux2014_x86_64.whl (6.8 MB)\n",
            "\u001b[2K   \u001b[90m━━━━━━━━━━━━━━━━━━━━━━━━━━━━━━━━━━━━━━━━\u001b[0m \u001b[32m6.8/6.8 MB\u001b[0m \u001b[31m60.8 MB/s\u001b[0m eta \u001b[36m0:00:00\u001b[0m\n",
            "\u001b[?25hDownloading dill-0.3.9-py3-none-any.whl (119 kB)\n",
            "\u001b[2K   \u001b[90m━━━━━━━━━━━━━━━━━━━━━━━━━━━━━━━━━━━━━━━━\u001b[0m \u001b[32m119.4/119.4 kB\u001b[0m \u001b[31m10.4 MB/s\u001b[0m eta \u001b[36m0:00:00\u001b[0m\n",
            "\u001b[?25hDownloading rustworkx-0.16.0-cp39-abi3-manylinux_2_17_x86_64.manylinux2014_x86_64.whl (2.1 MB)\n",
            "\u001b[2K   \u001b[90m━━━━━━━━━━━━━━━━━━━━━━━━━━━━━━━━━━━━━━━━\u001b[0m \u001b[32m2.1/2.1 MB\u001b[0m \u001b[31m70.2 MB/s\u001b[0m eta \u001b[36m0:00:00\u001b[0m\n",
            "\u001b[?25hDownloading stevedore-5.4.0-py3-none-any.whl (49 kB)\n",
            "\u001b[2K   \u001b[90m━━━━━━━━━━━━━━━━━━━━━━━━━━━━━━━━━━━━━━━━\u001b[0m \u001b[32m49.5/49.5 kB\u001b[0m \u001b[31m4.5 MB/s\u001b[0m eta \u001b[36m0:00:00\u001b[0m\n",
            "\u001b[?25hDownloading symengine-0.13.0-cp311-cp311-manylinux_2_17_x86_64.manylinux2014_x86_64.whl (49.7 MB)\n",
            "\u001b[2K   \u001b[90m━━━━━━━━━━━━━━━━━━━━━━━━━━━━━━━━━━━━━━━━\u001b[0m \u001b[32m49.7/49.7 MB\u001b[0m \u001b[31m17.0 MB/s\u001b[0m eta \u001b[36m0:00:00\u001b[0m\n",
            "\u001b[?25hDownloading pbr-6.1.0-py2.py3-none-any.whl (108 kB)\n",
            "\u001b[2K   \u001b[90m━━━━━━━━━━━━━━━━━━━━━━━━━━━━━━━━━━━━━━━━\u001b[0m \u001b[32m108.5/108.5 kB\u001b[0m \u001b[31m9.2 MB/s\u001b[0m eta \u001b[36m0:00:00\u001b[0m\n",
            "\u001b[?25hInstalling collected packages: symengine, rustworkx, pbr, dill, stevedore, qiskit\n",
            "Successfully installed dill-0.3.9 pbr-6.1.0 qiskit-1.3.2 rustworkx-0.16.0 stevedore-5.4.0 symengine-0.13.0\n"
          ]
        }
      ]
    },
    {
      "cell_type": "code",
      "source": [
        "!pip install qiskit-aer #instalar modulo Aer de la libreria Qiskit\n"
      ],
      "metadata": {
        "colab": {
          "base_uri": "https://localhost:8080/"
        },
        "id": "ju1-KF31bQrT",
        "outputId": "d5b89a48-6ad1-4f6c-b83d-1584219e5d85"
      },
      "execution_count": null,
      "outputs": [
        {
          "output_type": "stream",
          "name": "stdout",
          "text": [
            "Collecting qiskit-aer\n",
            "  Downloading qiskit_aer-0.16.0-cp311-cp311-manylinux_2_17_x86_64.manylinux2014_x86_64.whl.metadata (8.2 kB)\n",
            "Requirement already satisfied: qiskit>=1.1.0 in /usr/local/lib/python3.11/dist-packages (from qiskit-aer) (1.3.2)\n",
            "Requirement already satisfied: numpy>=1.16.3 in /usr/local/lib/python3.11/dist-packages (from qiskit-aer) (1.26.4)\n",
            "Requirement already satisfied: scipy>=1.0 in /usr/local/lib/python3.11/dist-packages (from qiskit-aer) (1.13.1)\n",
            "Requirement already satisfied: psutil>=5 in /usr/local/lib/python3.11/dist-packages (from qiskit-aer) (5.9.5)\n",
            "Requirement already satisfied: rustworkx>=0.15.0 in /usr/local/lib/python3.11/dist-packages (from qiskit>=1.1.0->qiskit-aer) (0.16.0)\n",
            "Requirement already satisfied: sympy>=1.3 in /usr/local/lib/python3.11/dist-packages (from qiskit>=1.1.0->qiskit-aer) (1.13.1)\n",
            "Requirement already satisfied: dill>=0.3 in /usr/local/lib/python3.11/dist-packages (from qiskit>=1.1.0->qiskit-aer) (0.3.9)\n",
            "Requirement already satisfied: python-dateutil>=2.8.0 in /usr/local/lib/python3.11/dist-packages (from qiskit>=1.1.0->qiskit-aer) (2.8.2)\n",
            "Requirement already satisfied: stevedore>=3.0.0 in /usr/local/lib/python3.11/dist-packages (from qiskit>=1.1.0->qiskit-aer) (5.4.0)\n",
            "Requirement already satisfied: typing-extensions in /usr/local/lib/python3.11/dist-packages (from qiskit>=1.1.0->qiskit-aer) (4.12.2)\n",
            "Requirement already satisfied: symengine<0.14,>=0.11 in /usr/local/lib/python3.11/dist-packages (from qiskit>=1.1.0->qiskit-aer) (0.13.0)\n",
            "Requirement already satisfied: six>=1.5 in /usr/local/lib/python3.11/dist-packages (from python-dateutil>=2.8.0->qiskit>=1.1.0->qiskit-aer) (1.17.0)\n",
            "Requirement already satisfied: pbr>=2.0.0 in /usr/local/lib/python3.11/dist-packages (from stevedore>=3.0.0->qiskit>=1.1.0->qiskit-aer) (6.1.0)\n",
            "Requirement already satisfied: mpmath<1.4,>=1.1.0 in /usr/local/lib/python3.11/dist-packages (from sympy>=1.3->qiskit>=1.1.0->qiskit-aer) (1.3.0)\n",
            "Downloading qiskit_aer-0.16.0-cp311-cp311-manylinux_2_17_x86_64.manylinux2014_x86_64.whl (12.4 MB)\n",
            "\u001b[2K   \u001b[90m━━━━━━━━━━━━━━━━━━━━━━━━━━━━━━━━━━━━━━━━\u001b[0m \u001b[32m12.4/12.4 MB\u001b[0m \u001b[31m72.2 MB/s\u001b[0m eta \u001b[36m0:00:00\u001b[0m\n",
            "\u001b[?25hInstalling collected packages: qiskit-aer\n",
            "Successfully installed qiskit-aer-0.16.0\n"
          ]
        }
      ]
    },
    {
      "cell_type": "code",
      "source": [
        "!pip install pylatexenc #biblioteca de python que permite convertir textos a formato latex\n"
      ],
      "metadata": {
        "colab": {
          "base_uri": "https://localhost:8080/"
        },
        "id": "KVb2mgPubVNf",
        "outputId": "e723714a-d80b-438f-f799-810722acd261"
      },
      "execution_count": null,
      "outputs": [
        {
          "output_type": "stream",
          "name": "stdout",
          "text": [
            "Collecting pylatexenc\n",
            "  Downloading pylatexenc-2.10.tar.gz (162 kB)\n",
            "\u001b[?25l     \u001b[90m━━━━━━━━━━━━━━━━━━━━━━━━━━━━━━━━━━━━━━━━\u001b[0m \u001b[32m0.0/162.6 kB\u001b[0m \u001b[31m?\u001b[0m eta \u001b[36m-:--:--\u001b[0m\r\u001b[2K     \u001b[90m━━━━━━━━━━━━━━━━━━━━━━━━━━━━━━━━━━━━━━━━\u001b[0m \u001b[32m162.6/162.6 kB\u001b[0m \u001b[31m5.6 MB/s\u001b[0m eta \u001b[36m0:00:00\u001b[0m\n",
            "\u001b[?25h  Preparing metadata (setup.py) ... \u001b[?25l\u001b[?25hdone\n",
            "Building wheels for collected packages: pylatexenc\n",
            "  Building wheel for pylatexenc (setup.py) ... \u001b[?25l\u001b[?25hdone\n",
            "  Created wheel for pylatexenc: filename=pylatexenc-2.10-py3-none-any.whl size=136816 sha256=998802989e8a1899ac19907fcb53657d24364305ffbc534e6a192b77863bf790\n",
            "  Stored in directory: /root/.cache/pip/wheels/b1/7a/33/9fdd892f784ed4afda62b685ae3703adf4c91aa0f524c28f03\n",
            "Successfully built pylatexenc\n",
            "Installing collected packages: pylatexenc\n",
            "Successfully installed pylatexenc-2.10\n"
          ]
        }
      ]
    },
    {
      "cell_type": "code",
      "source": [
        "!pip install helpers #modulo de Qiskit con funciones especiales\n"
      ],
      "metadata": {
        "colab": {
          "base_uri": "https://localhost:8080/"
        },
        "id": "t7AwMcKWlB4O",
        "outputId": "672abc17-77bb-4c62-94a0-3e5d7d46f530"
      },
      "execution_count": null,
      "outputs": [
        {
          "output_type": "stream",
          "name": "stdout",
          "text": [
            "Collecting helpers\n",
            "  Downloading helpers-0.2.0-py3-none-any.whl.metadata (708 bytes)\n",
            "Downloading helpers-0.2.0-py3-none-any.whl (2.3 kB)\n",
            "Installing collected packages: helpers\n",
            "Successfully installed helpers-0.2.0\n"
          ]
        }
      ]
    },
    {
      "cell_type": "code",
      "source": [
        "import math\n",
        "import numpy as np\n",
        "import matplotlib.pyplot as plt\n",
        "\n",
        "# Importing standard Qiskit libraries\n",
        "import qiskit\n",
        "import qiskit_aer\n",
        "import pylatexenc\n",
        "from qiskit import *\n",
        "from qiskit_aer import *\n",
        "from qiskit.compiler import transpile, assemble\n",
        "from qiskit.visualization import plot_histogram\n",
        "from qiskit.quantum_info import Statevector\n",
        "from qiskit.quantum_info.operators import Operator, Pauli\n",
        "from qiskit.circuit.library import GroverOperator, MCMT, ZGate\n"
      ],
      "metadata": {
        "id": "tQ61hOH7ieUQ"
      },
      "execution_count": null,
      "outputs": []
    },
    {
      "cell_type": "code",
      "source": [
        "qc = QuantumCircuit(2,0) #crea un circuito cuántico con 2 qubits y 0 bits clásicos\n",
        "qc.draw('mpl') #dibuja el circuito cuántico con matplotlib"
      ],
      "metadata": {
        "colab": {
          "base_uri": "https://localhost:8080/",
          "height": 191
        },
        "id": "qSeW6BlkmRGZ",
        "outputId": "72851757-8aea-4062-f448-79ae9d0be59a"
      },
      "execution_count": null,
      "outputs": [
        {
          "output_type": "execute_result",
          "data": {
            "text/plain": [
              "<Figure size 161.878x200.667 with 1 Axes>"
            ],
            "image/png": "[encoded data removed]"
          },
          "metadata": {},
          "execution_count": 15
        }
      ]
    },
    {
      "cell_type": "code",
      "source": [
        "qc.x(0) #aplica la puerta cuántica X(not cuántico) al qubit 0\n",
        "qc.draw('mpl') #dibuja el circuito cuántico"
      ],
      "metadata": {
        "colab": {
          "base_uri": "https://localhost:8080/",
          "height": 191
        },
        "id": "llxHHngEmU5l",
        "outputId": "370c7d95-05b2-4333-aa2b-8520c2a26f93"
      },
      "execution_count": null,
      "outputs": [
        {
          "output_type": "execute_result",
          "data": {
            "text/plain": [
              "<Figure size 203.683x200.667 with 1 Axes>"
            ],
            "image/png": "[encoded data removed]"
          },
          "metadata": {},
          "execution_count": 16
        }
      ]
    },
    {
      "cell_type": "code",
      "source": [
        "qc.z(1) #aplica la puerta Z al qubit 1\n",
        "qc.draw('mpl') #dibuja el circuito cuántico"
      ],
      "metadata": {
        "colab": {
          "base_uri": "https://localhost:8080/",
          "height": 191
        },
        "id": "9j4hxlawmaNY",
        "outputId": "c155ac38-c20e-4656-f5fd-cdd2729f2f12"
      },
      "execution_count": null,
      "outputs": [
        {
          "output_type": "execute_result",
          "data": {
            "text/plain": [
              "<Figure size 203.683x200.667 with 1 Axes>"
            ],
            "image/png": "[encoded data removed]"
          },
          "metadata": {},
          "execution_count": 17
        }
      ]
    },
    {
      "cell_type": "code",
      "source": [
        "qc.measure_all() #coloca mediciones a todos los qubits, para ver cómo cambiaron estos luego del circuito cuántico\n",
        "qc.draw('mpl') #grafica el circuito cuantico"
      ],
      "metadata": {
        "colab": {
          "base_uri": "https://localhost:8080/",
          "height": 255
        },
        "id": "Ll83ig_NmfV7",
        "outputId": "93f20167-41f3-4058-e9ee-f3bc68599b55"
      },
      "execution_count": null,
      "outputs": [
        {
          "output_type": "execute_result",
          "data": {
            "text/plain": [
              "<Figure size 496.776x284.278 with 1 Axes>"
            ],
            "image/png": "[encoded data removed]"
          },
          "metadata": {},
          "execution_count": 18
        }
      ]
    },
    {
      "cell_type": "markdown",
      "source": [
        "#Simulating a Circuit\n",
        "Ahora tenemos un circuito cuántico completo. Tenemos un cúbit con algunas puertas aplicadas y lo medimos al final. Queremos ejecutar realmente este circuito y ver qué sucede.\n",
        "\n",
        "Podemos hacer esto \"ejecutando\" nuestro circuito cuántico. Podemos especificar un backend. En este caso, usaremos un backend simulado. 'qasm_simulator' es un backend simulado que tiene la opción de agregar ruido (para emular hardware cuántico real). Lo ejecutaremos sin ruido por ahora. También puede especificar la cantidad de \"disparos\" que desea (cuántas veces ejecutar el circuito). Para este circuito, simulemos 1 disparo.\n",
        "\n",
        "A partir de un trabajo de simulación, podemos extraer los recuentos, que es un diccionario de los resultados de la medición. Las claves son las cadenas de bits medidas y los valores son la cantidad de veces que se midió esa cadena de bits.\n"
      ],
      "metadata": {
        "id": "a-yLgJrH6o9w"
      }
    },
    {
      "cell_type": "code",
      "source": [
        "# Obtiene el backend del simulador cuántico QASM de Aer, que permite simular circuitos cuánticos en hardwore real.\n",
        "backend = Aer.get_backend('qasm_simulator')\n",
        "\n",
        "# Transpila el circuito cuántico 'qc' para que sea compatible con el backend seleccionado, optimizando su ejecución.\n",
        "new_circuit = transpile(qc, backend)\n",
        "\n",
        "# Ejecuta el circuito transpileado en el backend, realizando una sola medición (shot).\n",
        "job = backend.run(new_circuit, shots=1)\n",
        "\n",
        "# Obtiene los resultados de la ejecución del trabajo en el backend.\n",
        "results = job.result()\n",
        "\n",
        "# Extrae las cuentas (resultados de medición) del objeto de resultados.\n",
        "counts = results.get_counts()\n",
        "\n",
        "# Muestra las cuentas obtenidas como resultado de la ejecución del circuito.\n",
        "counts"
      ],
      "metadata": {
        "colab": {
          "base_uri": "https://localhost:8080/"
        },
        "id": "eObqmOxdmjAo",
        "outputId": "3cdad693-074d-425c-dbfd-d76ee9e4de6d"
      },
      "execution_count": null,
      "outputs": [
        {
          "output_type": "execute_result",
          "data": {
            "text/plain": [
              "{'01': 1}"
            ]
          },
          "metadata": {},
          "execution_count": 21
        }
      ]
    },
    {
      "cell_type": "markdown",
      "source": [
        "#Visualización de resultados\n",
        "Este diccionario de recuentos es complicado cuando se tienen muchos cúbits. Una buena forma de visualizar los resultados de una simulación de circuito cuántico es con un histograma.\n",
        "\n",
        "Los contenedores del histograma son \"cadenas de bits\" en las que el cúbit medido \"0\" es el bit más a la derecha (el último), el cúbit medido \"1\" es el penúltimo, etc."
      ],
      "metadata": {
        "id": "V4KUHna28M1o"
      }
    },
    {
      "cell_type": "code",
      "source": [
        "plot_histogram(counts) #visualiza mediante un histograma las contadas de la variable counts\n"
      ],
      "metadata": {
        "colab": {
          "base_uri": "https://localhost:8080/",
          "height": 437
        },
        "id": "78KqJKVUmxUo",
        "outputId": "b7b60861-3b5e-478d-bf62-26df01f35e4e"
      },
      "execution_count": null,
      "outputs": [
        {
          "output_type": "execute_result",
          "data": {
            "text/plain": [
              "<Figure size 640x480 with 1 Axes>"
            ],
            "image/png": "[encoded data removed]"
          },
          "metadata": {},
          "execution_count": 20
        }
      ]
    },
    {
      "cell_type": "code",
      "source": [
        "# *FILL IN HERE*"
      ],
      "metadata": {
        "id": "HvQXzWCjm1AX"
      },
      "execution_count": null,
      "outputs": []
    },
    {
      "cell_type": "code",
      "source": [
        "backend = Aer.get_backend('qasm_simulator')\n",
        "\n",
        "new_circuit = transpile(qc, backend)\n",
        "job = backend.run(new_circuit, shots = 1)\n",
        "results = job.result()\n",
        "counts = results.get_counts()\n",
        "counts"
      ],
      "metadata": {
        "colab": {
          "base_uri": "https://localhost:8080/"
        },
        "id": "TAgKPUmQ9Aum",
        "outputId": "846e7a40-18b5-4d7b-803c-8e27c833a437"
      },
      "execution_count": null,
      "outputs": [
        {
          "output_type": "execute_result",
          "data": {
            "text/plain": [
              "{'01': 1}"
            ]
          },
          "metadata": {},
          "execution_count": 29
        }
      ]
    },
    {
      "cell_type": "markdown",
      "source": [
        "#Recuperación de un vector de estado final\n",
        "¿Qué ocurre si no queremos conocer una distribución de medidas, sino el vector de estado final del circuito? También podemos recuperar esa información. A continuación se muestra un ejemplo:"
      ],
      "metadata": {
        "id": "KqoRAH22-Flg"
      }
    },
    {
      "cell_type": "code",
      "source": [
        "qc = QuantumCircuit(1, 0)  # Crea un circuito cuántico con 1 qubit y 0 bits clásicos (sin mediciones).\n",
        "\n",
        "qc.x(0)  # Aplica la puerta X (NOT cuántico) al qubit 0, invirtiendo su estado de |0⟩ a |1⟩.\n",
        "\n",
        "display(qc.draw('mpl'))  # Dibuja y muestra el circuito cuántico en formato de gráfico utilizando Matplotlib.\n",
        "\n",
        "vec = Statevector(qc)  # Crea un objeto Statevector que representa el estado cuántico del circuito después de aplicar las puertas.\n",
        "\n",
        "vec  # Muestra el vector de estado resultante del circuito."
      ],
      "metadata": {
        "colab": {
          "base_uri": "https://localhost:8080/",
          "height": 162
        },
        "id": "ck94SW6T-Tfl",
        "outputId": "dd88222e-2085-4d52-999d-4a036c3a2099"
      },
      "execution_count": null,
      "outputs": [
        {
          "output_type": "display_data",
          "data": {
            "text/plain": [
              "<Figure size 185.453x117.056 with 1 Axes>"
            ],
            "image/png": "[encoded data removed]"
          },
          "metadata": {}
        },
        {
          "output_type": "stream",
          "name": "stdout",
          "text": [
            "Statevector([0.+0.j, 1.+0.j],\n",
            "            dims=(2,))\n"
          ]
        }
      ]
    },
    {
      "cell_type": "markdown",
      "source": [
        "# PROBLEMAS PRÁCTICOS"
      ],
      "metadata": {
        "id": "BS091sMqEHWm"
      }
    },
    {
      "cell_type": "code",
      "source": [
        "from qiskit.primitives import Sampler # Import Sampler instead of execute\n"
      ],
      "metadata": {
        "id": "I7uVlCU0SF-E"
      },
      "execution_count": null,
      "outputs": []
    },
    {
      "cell_type": "code",
      "source": [
        "# Ejercicio A: Preparar q0 en el estado |+> y mostrar el vector de estado\n",
        "qc_A = QuantumCircuit(1)  # Crear un circuito cuántico con 1 qubit\n",
        "qc_A.h(0)  # Aplicar la puerta Hadamard para crear el estado |+>\n",
        "display(qc_A.draw())  # Dibujar el circuito\n",
        "state_A = Statevector.from_instruction(qc_A)  # Obtener el vector de estado\n",
        "print(\"Vector de estado para |+>:\", state_A)  # Mostrar el vector de estado\n"
      ],
      "metadata": {
        "colab": {
          "base_uri": "https://localhost:8080/",
          "height": 98
        },
        "id": "MRDwyDvKEL68",
        "outputId": "7ea64c37-2153-4164-8e81-2341468bc400"
      },
      "execution_count": null,
      "outputs": [
        {
          "output_type": "display_data",
          "data": {
            "text/plain": [
              "   ┌───┐\n",
              "q: ┤ H ├\n",
              "   └───┘"
            ],
            "text/html": [
              "<pre style=\"word-wrap: normal;white-space: pre;background: #fff0;line-height: 1.1;font-family: &quot;Courier New&quot;,Courier,monospace\">   ┌───┐\n",
              "q: ┤ H ├\n",
              "   └───┘</pre>"
            ]
          },
          "metadata": {}
        },
        {
          "output_type": "stream",
          "name": "stdout",
          "text": [
            "Vector de estado para |+>: Statevector([0.70710678+0.j, 0.70710678+0.j],\n",
            "            dims=(2,))\n"
          ]
        }
      ]
    },
    {
      "cell_type": "code",
      "source": [
        "# Ejercicio B: Preparar q0 en |1> y q1 en |+>, Realice 100 mediciones y genere un histograma de los resultados.\n",
        "qc_B = QuantumCircuit(2, 2)  # Crear un circuito con 2 qubits q0,q1 y 2 bits clásicos c0,c1\n",
        "qc_B.x(0)  # Aplicar puerta X para preparar |1> en q0\n",
        "qc_B.h(1)  # Aplicar puerta Hadamard en q1 para crear |+>\n",
        "qc_B.measure([0, 1], [0, 1])  # Medir ambos qubits, qc.measure(qubit_index, classical_bit_index) indice 0 del 1er qubit -> indice 0 del 1er bit , 1->1\n",
        "backend = Aer.get_backend('qasm_simulator')  # Definir el simulador clásico\n",
        "\n",
        "# En lugar de ejecutar, utilice transpile y backend.run\n",
        "qc_B_transpiled = transpile(qc_B, backend) # Transpila el circuito para el backend\n",
        "result_B = backend.run(qc_B_transpiled, shots=100).result()  # Ejecutar simulación\n",
        "\n",
        "counts_B = result_B.get_counts()  # Obtener los conteos\n",
        "plot_histogram(counts_B)  # Graficar histograma\n"
      ],
      "metadata": {
        "colab": {
          "base_uri": "https://localhost:8080/",
          "height": 437
        },
        "id": "x9gxCfIqFAc9",
        "outputId": "a0e808a6-139a-4d15-90ec-961757d38610"
      },
      "execution_count": null,
      "outputs": [
        {
          "output_type": "execute_result",
          "data": {
            "text/plain": [
              "<Figure size 640x480 with 1 Axes>"
            ],
            "image/png": "[encoded data removed]"
          },
          "metadata": {},
          "execution_count": 38
        }
      ]
    },
    {
      "cell_type": "code",
      "source": [
        "# Ejercicio C: Preparar q0 en |+> y medirlo 100 veces, Realice 100 mediciones y genere un histograma de los resultados.\n",
        "qc_C = QuantumCircuit(1, 1)\n",
        "qc_C.h(0)  # Aplicar Hadamard a q0 para obtener el estado |+>\n",
        "qc_C.measure(0, 0)  # Medir el qubit\n",
        "qc_C_transpiled = transpile(qc_C, backend) # Transpila el circuito para el backend\n",
        "result_C = backend.run(qc_C_transpiled, shots=100).result()  # Ejecutar simulación\n",
        "counts_C = result_C.get_counts()\n",
        "plot_histogram(counts_C)  # Graficar histograma\n"
      ],
      "metadata": {
        "colab": {
          "base_uri": "https://localhost:8080/",
          "height": 429
        },
        "id": "qy4IpfyQVVn6",
        "outputId": "62f0cae8-b0c2-476e-fd68-333044799843"
      },
      "execution_count": null,
      "outputs": [
        {
          "output_type": "execute_result",
          "data": {
            "text/plain": [
              "<Figure size 640x480 with 1 Axes>"
            ],
            "image/png": "[encoded data removed]"
          },
          "metadata": {},
          "execution_count": 41
        }
      ]
    },
    {
      "cell_type": "code",
      "source": [
        "# Ejercicio D: Preparar q0 en |-> y medirlo 100 veces, Realice 100 mediciones y genere un histograma de los resultados.\n",
        "qc_D = QuantumCircuit(1, 1)\n",
        "qc_D.h(0)  # Aplicar Hadamard para |+>\n",
        "qc_D.z(0)  # Aplicar puerta Z para cambiar a |->\n",
        "qc_D.measure(0, 0)  # Medir el qubit\n",
        "qc_D_transpiled = transpile(qc_D, backend) # Transpila el circuito para el backend\n",
        "result_D = backend.run(qc_D_transpiled, shots=100).result()  # Ejecutar simulación\n",
        "counts_D = result_D.get_counts()\n",
        "plot_histogram(counts_D)  # Graficar histograma"
      ],
      "metadata": {
        "colab": {
          "base_uri": "https://localhost:8080/",
          "height": 431
        },
        "id": "ilP9DzExYHel",
        "outputId": "38187d46-2f0e-4d0e-8985-175039fa0b62"
      },
      "execution_count": null,
      "outputs": [
        {
          "output_type": "execute_result",
          "data": {
            "text/plain": [
              "<Figure size 640x480 with 1 Axes>"
            ],
            "image/png": "[encoded data removed]"
          },
          "metadata": {},
          "execution_count": 42
        }
      ]
    },
    {
      "cell_type": "code",
      "source": [
        "# Ejercicio E: Distinguir entre |+> y |->\n",
        "qc_E = QuantumCircuit(1, 1)\n",
        "qc_E.h(0)  # Aplicar Hadamard antes de medir en la base computacional\n",
        "qc_E.measure(0, 0)\n",
        "qc_E_transpiled = transpile(qc_E, backend) # Transpila el circuito para el backend\n",
        "result_E = backend.run(qc_E_transpiled, shots=100).result()  # Ejecutar simulación\n",
        "counts_E = result_D.get_counts()\n",
        "plot_histogram(counts_E)  # Graficar histograma\n"
      ],
      "metadata": {
        "colab": {
          "base_uri": "https://localhost:8080/",
          "height": 431
        },
        "id": "pXA9o9p1aAE8",
        "outputId": "f1978086-1966-45e3-e560-25df23e3f7ac"
      },
      "execution_count": null,
      "outputs": [
        {
          "output_type": "execute_result",
          "data": {
            "text/plain": [
              "<Figure size 640x480 with 1 Axes>"
            ],
            "image/png": "[encoded data removed]"
          },
          "metadata": {},
          "execution_count": 43
        }
      ]
    },
    {
      "cell_type": "markdown",
      "source": [
        "# Conectando el experimento Stern-Gerlach con la computación cuántica\n"
      ],
      "metadata": {
        "id": "bienrjT7bBMa"
      }
    },
    {
      "cell_type": "code",
      "source": [
        "# 1 QB quantum register\n",
        "qr = QuantumRegister(1, name=\"QB\")  # Crea un registro cuántico con 1 qubit, nombrado \"QB\".\n",
        "\n",
        "# 2 bit classical register -- the length of the register is the number of measurements (number of Stern-Gerlach machines)\n",
        "cr = ClassicalRegister(1, name='c')  # Crea un registro clásico con 1 bit, nombrado \"c\", para almacenar los resultados de las mediciones.\n",
        "\n",
        "# quantum circuit combines quantum and classical registers\n",
        "qc = QuantumCircuit(qr, cr)  # Crea un circuito cuántico que combina el registro cuántico y el registro clásico.\n",
        "\n",
        "# applying this gate makes our source which generates qubits which are an equal superposition of |0> and |1> AND an equal superposition of |+> and |->\n",
        "qc.rx(np.pi/2, 0)  # Aplica la puerta RX al qubit 0, creando una superposición igual de los estados |0⟩ y |1⟩ (y también de |+⟩ y |-⟩).\n",
        "\n",
        "qc.measure(0, cr)  # Mide el qubit 0 y almacena el resultado en el registro clásico.\n",
        "\n",
        "print('Z basis measurement:')  # Imprime un mensaje indicando que se realizará una medición en la base Z.\n",
        "display(qc.draw('mpl'))  # Dibuja y muestra el circuito cuántico en formato gráfico utilizando Matplotlib.\n",
        "\n",
        "backend = Aer.get_backend('qasm_simulator')  # Obtiene el backend del simulador cuántico QASM de Aer.\n",
        "new_circuit = transpile(qc, backend)  # Transpila el circuito cuántico para optimizarlo y hacerlo compatible con el backend.\n",
        "job = backend.run(new_circuit, shots=100)  # Ejecuta el circuito transpileado en el backend, realizando 100 mediciones (shots).\n",
        "results = job.result()  # Obtiene los resultados de la ejecución del trabajo en el backend.\n",
        "counts = results.get_counts()  # Extrae las cuentas (resultados de medición) del objeto de resultados.\n",
        "plot_histogram(counts, figsize=(3,4))  # Muestra un histograma de las cuentas obtenidas como resultado de las mediciones."
      ],
      "metadata": {
        "colab": {
          "base_uri": "https://localhost:8080/",
          "height": 558
        },
        "id": "pP7N26y2cDez",
        "outputId": "ffc5def0-1d74-419d-df61-f2833a70f387"
      },
      "execution_count": null,
      "outputs": [
        {
          "output_type": "stream",
          "name": "stdout",
          "text": [
            "Z basis measurement:\n"
          ]
        },
        {
          "output_type": "display_data",
          "data": {
            "text/plain": [
              "<Figure size 293.102x200.667 with 1 Axes>"
            ],
            "image/png": "[encoded data removed]"
          },
          "metadata": {}
        },
        {
          "output_type": "execute_result",
          "data": {
            "text/plain": [
              "<Figure size 300x400 with 1 Axes>"
            ],
            "image/png": "[encoded data removed]"
          },
          "metadata": {},
          "execution_count": 44
        }
      ]
    },
    {
      "cell_type": "code",
      "source": [
        "# 1 QB quantum register\n",
        "qr = QuantumRegister(1, name=\"QB\")  # Crea un registro cuántico con 1 qubit, nombrado \"QB\".\n",
        "\n",
        "# 1 bit classical register -- the length of the register is the number of measurements (number of Stern-Gerlach machines)\n",
        "cr = ClassicalRegister(1, name='c')  # Crea un registro clásico con 1 bit, nombrado \"c\", para almacenar los resultados de las mediciones.\n",
        "\n",
        "# quantum circuit combines quantum and classical registers\n",
        "qc = QuantumCircuit(qr, cr)  # Crea un circuito cuántico que combina el registro cuántico y el registro clásico.\n",
        "\n",
        "# applying this gate makes our source which generates qubits which are an equal superposition of |0> and |1> AND an equal superposition of |+> and |->\n",
        "qc.rx(np.pi/2, 0)  # Aplica la puerta RX al qubit 0, creando una superposición igual de los estados |0⟩ y |1⟩ (y también de |+⟩ y |-⟩).\n",
        "\n",
        "qc.h(0)  # Aplica la puerta Hadamard al qubit 0, transformando la superposición en una base que permite medir en la base X.\n",
        "\n",
        "qc.measure(0, cr)  # Mide el qubit 0 y almacena el resultado en el registro clásico.\n",
        "\n",
        "qc.h(0)  # Aplica nuevamente la puerta Hadamard al qubit 0. (Nota: Esto no tiene efecto después de la medición, pero se incluye aquí).\n",
        "\n",
        "print('X basis measurement:')  # Imprime un mensaje indicando que se realizará una medición en la base X.\n",
        "display(qc.draw('mpl'))  # Dibuja y muestra el circuito cuántico en formato gráfico utilizando Matplotlib.\n",
        "\n",
        "backend = Aer.get_backend('qasm_simulator')  # Obtiene el backend del simulador cuántico QASM de Aer.\n",
        "new_circuit = transpile(qc, backend)  # Transpila el circuito cuántico para optimizarlo y hacerlo compatible con el backend.\n",
        "job = backend.run(new_circuit, shots=100)  # Ejecuta el circuito transpileado en el backend, realizando 100 mediciones (shots).\n",
        "results = job.result()  # Obtiene los resultados de la ejecución del trabajo en el backend.\n",
        "counts = results.get_counts()  # Extrae las cuentas (resultados de medición) del objeto de resultados.\n",
        "plot_histogram(counts, figsize=(3,4))  # Muestra un histograma de las cuentas obtenidas como resultado de las mediciones."
      ],
      "metadata": {
        "colab": {
          "base_uri": "https://localhost:8080/",
          "height": 558
        },
        "id": "MsdBCwWRcP3D",
        "outputId": "0e6c681e-2ea7-4fc5-da05-481ceebecd4e"
      },
      "execution_count": null,
      "outputs": [
        {
          "output_type": "stream",
          "name": "stdout",
          "text": [
            "X basis measurement:\n"
          ]
        },
        {
          "output_type": "display_data",
          "data": {
            "text/plain": [
              "<Figure size 460.324x200.667 with 1 Axes>"
            ],
            "image/png": "[encoded data removed]"
          },
          "metadata": {}
        },
        {
          "output_type": "execute_result",
          "data": {
            "text/plain": [
              "<Figure size 300x400 with 1 Axes>"
            ],
            "image/png": "[encoded data removed]"
          },
          "metadata": {},
          "execution_count": 47
        }
      ]
    },
    {
      "cell_type": "code",
      "source": [
        "# A) Podemos recrear cada uno de los experimentos de Stern-Gerlach que hicimos antes de usar este. Aquí mostramos el primero.\n",
        "# 1 QB quantum register\n",
        "qr = QuantumRegister(1, name=\"QB\")  # Crea un registro cuántico con 1 qubit, nombrado \"QB\".\n",
        "\n",
        "# 2 bit classical register -- the length of the register is the number of measurements (number of Stern-Gerlach machines)\n",
        "cr = ClassicalRegister(2, name='c')  # Crea un registro clásico con 2 bits, nombrado \"c\", para almacenar los resultados de las mediciones.\n",
        "\n",
        "# quantum circuit combines quantum and classical registers\n",
        "qc = QuantumCircuit(qr, cr)  # Crea un circuito cuántico que combina el registro cuántico y el registro clásico.\n",
        "\n",
        "# number of shots\n",
        "num_shots = 100  # Define el número de ejecuciones (shots) del circuito cuántico.\n",
        "\n",
        "# applying this gate makes our source which generates qubits which are an equal superposition of |0> and |1> AND an equal superposition of |+> and |->\n",
        "qc.rx(np.pi/2, 0)  # Aplica la puerta RX al qubit 0, creando una superposición igual de los estados |0⟩ y |1⟩ (y también de |+⟩ y |-⟩).\n",
        "\n",
        "qc.measure(0, cr[0])  # Mide el qubit 0 y almacena el resultado en el primer bit del registro clásico.\n",
        "qc.measure(0, cr[1])  # Mide nuevamente el qubit 0 y almacena el resultado en el segundo bit del registro clásico.\n",
        "display(qc.draw('mpl'))  # Dibuja y muestra el circuito cuántico en formato gráfico utilizando Matplotlib.\n",
        "\n",
        "backend = Aer.get_backend('qasm_simulator')  # Obtiene el backend del simulador cuántico QASM de Aer.\n",
        "new_circuit = transpile(qc, backend)  # Transpila el circuito cuántico para optimizarlo y hacerlo compatible con el backend.\n",
        "job = backend.run(new_circuit, shots=num_shots)  # Ejecuta el circuito transpileado en el backend, realizando 'num_shots' mediciones.\n",
        "results = job.result()  # Obtiene los resultados de la ejecución del trabajo en el backend.\n",
        "counts = results.get_counts()  # Extrae las cuentas (resultados de medición) del objeto de resultados.\n",
        "\n",
        "# filter our counts... We only want to keep measurements for which the first bit is 0\n",
        "# This corresponds to blocking the minus port of the first Z Stern-Gerlach machine\n",
        "filtered_counts = {key: counts[key] for key in counts.keys() if key[-1] == '0'}\n",
        "# Filtra las cuentas para conservar solo aquellas en las que el último bit es '0'.\n",
        "\n",
        "# compute the number of measurements of the final bit being 0 vs. 1\n",
        "output_counts = {}\n",
        "for bit in [0, 1]:\n",
        "    output_counts[bit] = [filtered_counts[key] for key in filtered_counts.keys() if key[0] == str(bit)]\n",
        "    # Cuenta las mediciones donde el primer bit es '0' o '1' en las cuentas filtradas.\n",
        "\n",
        "display(plot_histogram(filtered_counts, figsize=(3,4)))\n",
        "# Muestra un histograma de las cuentas filtradas obtenidas como resultado de las mediciones.\n",
        "\n",
        "print(f\"We measured 0 for {sum(output_counts[0])*100/num_shots}% of the shots and 1 for {sum(output_counts[1])*100/num_shots}% of the shots.\")\n",
        "# Imprime la proporción de veces que se midió '0' y '1' en relación con el número total de ejecuciones."
      ],
      "metadata": {
        "colab": {
          "base_uri": "https://localhost:8080/",
          "height": 566
        },
        "id": "e1WxB_Gae5Ep",
        "outputId": "d9995f14-4f0f-4ea3-d403-6155489ade39"
      },
      "execution_count": null,
      "outputs": [
        {
          "output_type": "display_data",
          "data": {
            "text/plain": [
              "<Figure size 376.713x200.667 with 1 Axes>"
            ],
            "image/png": "[encoded data removed]"
          },
          "metadata": {}
        },
        {
          "output_type": "display_data",
          "data": {
            "text/plain": [
              "<Figure size 300x400 with 1 Axes>"
            ],
            "image/png": "[encoded data removed]"
          },
          "metadata": {}
        },
        {
          "output_type": "stream",
          "name": "stdout",
          "text": [
            "We measured 0 for 58.0% of the shots and 1 for 0.0% of the shots.\n"
          ]
        }
      ]
    },
    {
      "cell_type": "markdown",
      "source": [
        "# Problemas Prácticos\n",
        "Recrea cada uno de los siguientes experimentos de Stern-Gerlach como circuitos Qiskit. Vuelve a comprobar que, en el límite de disparos, los porcentajes finales coincidan con lo que esperabas de tus cálculos anteriores."
      ],
      "metadata": {
        "id": "LZhsBuKzf109"
      }
    },
    {
      "cell_type": "code",
      "source": [
        "# B)\n",
        "# B)\n",
        "# 1 QB quantum register\n",
        "qr = QuantumRegister(1, name=\"QB\")  # Crea un registro cuántico con 1 qubit, nombrado \"QB\".\n",
        "\n",
        "# 2 bit classical register -- the length of the register is the number of measurements (number of Stern-Gerlach machines)\n",
        "cr = ClassicalRegister(2, name='c')  # Crea un registro clásico con 2 bits, nombrado \"c\", para almacenar los resultados de las mediciones.\n",
        "\n",
        "# quantum circuit combines quantum and classical registers\n",
        "qc = QuantumCircuit(qr, cr)  # Crea un circuito cuántico que combina el registro cuántico y el registro clásico.\n",
        "\n",
        "# applying this gate makes our source which generates qubits which are an equal superposition of |0> and |1> AND an equal superposition of |+> and |->\n",
        "qc.rx(np.pi/2, 0)  # Aplica la puerta RX al qubit 0, creando una superposición igual de los estados |0⟩ y |1⟩ (y también de |+⟩ y |-⟩).\n",
        "\n",
        "# Add measurements to the circuit\n",
        "qc.measure(qr[0], cr[0])  # Measure the qubit to the first classical bit\n",
        "qc.measure(qr[0], cr[1])  # Measure the qubit again to the second classical bit\n",
        "\n",
        "\n",
        "display(qc.draw('mpl'))  # Dibuja y muestra el circuito cuántico en formato gráfico utilizando Matplotlib.\n",
        "\n",
        "backend = Aer.get_backend('qasm_simulator')  # Obtiene el backend del simulador cuántico QASM de Aer.\n",
        "new_circuit = transpile(qc, backend)  # Transpila el circuito cuántico para optimizarlo y hacerlo compatible con el backend.\n",
        "job = backend.run(new_circuit, shots=100)  # Ejecuta el circuito transpileado en el backend, realizando 100 mediciones (shots).\n",
        "results = job.result()  # Obtiene los resultados de la ejecución del trabajo en el backend.\n",
        "counts = results.get_counts()  # Extrae las cuentas (resultados de medición) del objeto de resultados.\n",
        "\n",
        "# filter our counts... We only want to keep measurements for which the first bit is 0\n",
        "# This corresponds to blocking the minus port of the first Z Stern-Gerlach machine\n",
        "filtered_counts = {key: counts[key] for key in counts.keys() if key[-1] == '0'}\n",
        "# Filtra las cuentas para conservar solo aquellas en las que el último bit es '0'.\n",
        "\n",
        "# compute the number of measurements of the final bit being 0 vs. 1\n",
        "output_counts = {}\n",
        "for bit in [0, 1]:\n",
        "    output_counts[bit] = [filtered_counts[key] for key in filtered_counts.keys() if key[0] == str(bit)]\n",
        "    # Cuenta las mediciones donde el primer bit es '0' o '1' en las cuentas filtradas.\n",
        "\n",
        "display(plot_histogram(filtered_counts, figsize=(3,4)))\n",
        "# Muestra un histograma de las cuentas filtradas obtenidas como resultado de las mediciones.\n",
        "num_shots = 100\n",
        "print(f\"We measured 0 for {sum(output_counts[0])*100/num_shots}% of the shots and 1 for {sum(output_counts[1])*100/num_shots}% of the shots.\")\n",
        "# Imprime la proporción de veces que se midió '0' y '1' en relación con el número total de ejecuciones."
      ],
      "metadata": {
        "colab": {
          "base_uri": "https://localhost:8080/",
          "height": 566
        },
        "id": "rMO72h6kfvSc",
        "outputId": "c711e1d5-0c27-4704-ebb5-1ad1fee0ad98"
      },
      "execution_count": null,
      "outputs": [
        {
          "output_type": "display_data",
          "data": {
            "text/plain": [
              "<Figure size 376.713x200.667 with 1 Axes>"
            ],
            "image/png": "[encoded data removed]"
          },
          "metadata": {}
        },
        {
          "output_type": "display_data",
          "data": {
            "text/plain": [
              "<Figure size 300x400 with 1 Axes>"
            ],
            "image/png": "[encoded data removed]"
          },
          "metadata": {}
        },
        {
          "output_type": "stream",
          "name": "stdout",
          "text": [
            "We measured 0 for 41.0% of the shots and 1 for 0.0% of the shots.\n"
          ]
        }
      ]
    },
    {
      "cell_type": "markdown",
      "source": [
        "# PROTOCOLO BB84\n",
        "Hoy aprendimos sobre un protocolo de distribución de claves cuánticas (QKD) llamado BB84, que aprovecha la superposición cuántica para crear de forma segura una clave compartida entre dos usuarios (a quienes solemos llamar Alice y Bob). Alice y Bob también podrán detectar si alguien intenta \"espiar\" para conocer la clave. Todo lo que se requiere para BB84 es un canal cuántico y un canal de comunicación clásico, ninguno de los cuales necesita ser seguro. Resumimos los pasos del protocolo aquí:\n"
      ],
      "metadata": {
        "id": "HO60U4NRhhpF"
      }
    },
    {
      "cell_type": "code",
      "source": [
        "#Ahora veamos cómo podemos implementar este protocolo en Qiskit.\n",
        "# BB84 Protocol\n",
        "\n",
        "n = 5  # number of bits\n",
        "\n",
        "# randomly choose Alice's bits and bases, and Bob's bases\n",
        "alice_bits = np.random.choice([0, 1], n)  # Genera un array de bits aleatorios (0 o 1) para Alice.\n",
        "alice_bases = np.random.choice([0, 1], n)  # Genera un array de bases aleatorias (0 o 1) para Alice.\n",
        "bob_bases = np.random.choice([0, 1], n)  # Genera un array de bases aleatorias (0 o 1) para Bob.\n",
        "\n",
        "bob_bits = np.zeros(len(alice_bits), dtype=int)  # Inicializa un array para almacenar los resultados de las mediciones de Bob.\n",
        "\n",
        "# simulator backend\n",
        "backend = Aer.get_backend('qasm_simulator')  # Establece el backend del simulador cuántico QASM.\n",
        "\n",
        "# loop through all bits\n",
        "for i in range(n):  # Itera a través de cada bit.\n",
        "\n",
        "    print(f\"Bit #{i+1}\")  # Imprime el número del bit actual.\n",
        "    print(f\"Alice Bit: {alice_bits[i]}, Alice Basis: {'Z' if alice_bases[i] == 0 else 'X'}, Bob Basis: {'Z' if bob_bases[i] == 0 else 'X'}\")\n",
        "    # Imprime el bit y la base elegidos por Alice y la base elegida por Bob.\n",
        "\n",
        "    qc = QuantumCircuit(1, 0)  # Crea un circuito cuántico con un qubit y sin bits clásicos.\n",
        "\n",
        "    # bit flip if preparing the |1> state\n",
        "    if alice_bits[i] == 1:\n",
        "        qc.x(0)  # Aplica la puerta X (NOT cuántico) si el bit de Alice es |1>.\n",
        "\n",
        "    # H gate if X basis\n",
        "    if alice_bases[i] == 1:\n",
        "        qc.h(0)  # Aplica la puerta Hadamard si la base de Alice es X.\n",
        "\n",
        "    qc.barrier()  # Añade una barrera visual entre los pasos de Alice y Bob.\n",
        "\n",
        "    # H gate if X basis\n",
        "    if bob_bases[i] == 1:\n",
        "        qc.h(0)  # Aplica la puerta Hadamard si la base de Bob es X.\n",
        "\n",
        "    qc.measure_all()  # Mide todos los qubits en el circuito.\n",
        "\n",
        "    display(qc.draw(\"mpl\"))  # Dibuja y muestra el circuito cuántico en formato gráfico utilizando Matplotlib.\n",
        "\n",
        "    # simulate for 1 shot\n",
        "    new_circuit = transpile(qc, backend)  # Transpila el circuito para optimizarlo para el backend.\n",
        "    job = backend.run(new_circuit, shots=1)  # Ejecuta el circuito en el backend, realizando una única medición.\n",
        "    results = job.result()  # Obtiene los resultados de la ejecución del circuito.\n",
        "    counts = results.get_counts()  # Extrae las cuentas (resultados de medición).\n",
        "\n",
        "    # save Bob's measurement result\n",
        "    bob_bits[i] = 0 if '0' in counts.keys() else 1\n",
        "    # Guarda el resultado de la medición de Bob: asigna '0' si se mide '0', de lo contrario asigna '1'.\n",
        "\n",
        "    print(f\"Bob measured {bob_bits[i]:.0f}\")  # Imprime el resultado medido por Bob.\n",
        "    print()  # Imprime una línea en blanco para mayor claridad.\n"
      ],
      "metadata": {
        "colab": {
          "base_uri": "https://localhost:8080/",
          "height": 1000
        },
        "id": "kD4k6nDahwgj",
        "outputId": "a797abf0-a023-4883-9e84-e194cc7b2fbe"
      },
      "execution_count": null,
      "outputs": [
        {
          "output_type": "stream",
          "name": "stdout",
          "text": [
            "Bit #1\n",
            "Alice Bit: 1, Alice Basis: X, Bob Basis: Z\n"
          ]
        },
        {
          "output_type": "display_data",
          "data": {
            "text/plain": [
              "<Figure size 580.387x200.667 with 1 Axes>"
            ],
            "image/png": "[encoded data removed]"
          },
          "metadata": {}
        },
        {
          "output_type": "stream",
          "name": "stdout",
          "text": [
            "Bob measured 0\n",
            "\n",
            "Bit #2\n",
            "Alice Bit: 0, Alice Basis: Z, Bob Basis: Z\n"
          ]
        },
        {
          "output_type": "display_data",
          "data": {
            "text/plain": [
              "<Figure size 413.165x200.667 with 1 Axes>"
            ],
            "image/png": "[encoded data removed]"
          },
          "metadata": {}
        },
        {
          "output_type": "stream",
          "name": "stdout",
          "text": [
            "Bob measured 0\n",
            "\n",
            "Bit #3\n",
            "Alice Bit: 1, Alice Basis: X, Bob Basis: Z\n"
          ]
        },
        {
          "output_type": "display_data",
          "data": {
            "text/plain": [
              "<Figure size 580.387x200.667 with 1 Axes>"
            ],
            "image/png": "[encoded data removed]"
          },
          "metadata": {}
        },
        {
          "output_type": "stream",
          "name": "stdout",
          "text": [
            "Bob measured 1\n",
            "\n",
            "Bit #4\n",
            "Alice Bit: 0, Alice Basis: X, Bob Basis: X\n"
          ]
        },
        {
          "output_type": "display_data",
          "data": {
            "text/plain": [
              "<Figure size 580.387x200.667 with 1 Axes>"
            ],
            "image/png": "[encoded data removed]"
          },
          "metadata": {}
        },
        {
          "output_type": "stream",
          "name": "stdout",
          "text": [
            "Bob measured 0\n",
            "\n",
            "Bit #5\n",
            "Alice Bit: 1, Alice Basis: Z, Bob Basis: X\n"
          ]
        },
        {
          "output_type": "display_data",
          "data": {
            "text/plain": [
              "<Figure size 580.387x200.667 with 1 Axes>"
            ],
            "image/png": "[encoded data removed]"
          },
          "metadata": {}
        },
        {
          "output_type": "stream",
          "name": "stdout",
          "text": [
            "Bob measured 0\n",
            "\n"
          ]
        }
      ]
    },
    {
      "cell_type": "code",
      "source": [
        "\n",
        "# Define the function convert_to_basis_string to convert basis representations\n",
        "def convert_to_basis_string(bases):\n",
        "    \"\"\"Converts a list of basis representations (0 or 1) to a string representation ('Z' or 'X').\"\"\"\n",
        "    return \"\".join(['Z' if base == 0 else 'X' for base in bases])\n",
        "\n",
        "# Post-selection\n",
        "\n",
        "print(\"Measurement Results:\")  # Imprime un encabezado para los resultados de la medición.\n",
        "print(f\"Alice's bitstring: {alice_bits}\")  # Muestra la secuencia de bits generada por Alice.\n",
        "print(f\"  Bob's bitstring: {bob_bits}\")  # Muestra la secuencia de bits medidos por Bob.\n",
        "print()  # Imprime una línea en blanco para mayor claridad.\n",
        "\n",
        "print(\"Basis Comparison:\")  # Imprime un encabezado para la comparación de bases.\n",
        "print(f\"Alice's bases: {convert_to_basis_string(alice_bases)}\")  # Muestra las bases elegidas por Alice, convertidas a una representación legible.\n",
        "print(f\"  Bob's bases: {convert_to_basis_string(bob_bases)}\")  # Muestra las bases elegidas por Bob, convertidas a una representación legible.\n",
        "print()  # Imprime una línea en blanco para mayor claridad.\n",
        "\n",
        "# only keep bits where the basis is in agreement\n",
        "keep_idxs = alice_bases == bob_bases  # Crea un array booleano que indica dónde las bases de Alice y Bob coinciden.\n",
        "alice_key = alice_bits[keep_idxs]  # Filtra los bits de Alice donde las bases coinciden.\n",
        "bob_key = bob_bits[keep_idxs]  # Filtra los bits de Bob donde las bases coinciden.\n",
        "\n",
        "print(\"Keys:\")  # Imprime un encabezado para las claves finales.\n",
        "print(f\"Alice's key: {alice_key}\")  # Muestra la clave final de Alice.\n",
        "print(f\"  Bob's key: {bob_key}\")  # Muestra la clave final de Bob.\n",
        "print()  # Imprime una línea en blanco para mayor claridad."
      ],
      "metadata": {
        "colab": {
          "base_uri": "https://localhost:8080/"
        },
        "id": "SUrZKNiCi41m",
        "outputId": "401b9729-935c-4b07-daf3-c8e559c0ed65"
      },
      "execution_count": null,
      "outputs": [
        {
          "output_type": "stream",
          "name": "stdout",
          "text": [
            "Measurement Results:\n",
            "Alice's bitstring: [1 0 1 0 1]\n",
            "  Bob's bitstring: [0 0 1 0 0]\n",
            "\n",
            "Basis Comparison:\n",
            "Alice's bases: XZXXZ\n",
            "  Bob's bases: ZZZXX\n",
            "\n",
            "Keys:\n",
            "Alice's key: [0 0]\n",
            "  Bob's key: [0 0]\n",
            "\n"
          ]
        }
      ]
    },
    {
      "cell_type": "markdown",
      "source": [
        "# PROTOCOLO COMPLETO\n",
        "A continuación, tenemos un código que implementa el protocolo completo con posprocesamiento. Ejecútelo varias veces para ver cómo Alice y Bob crean su clave compartida."
      ],
      "metadata": {
        "id": "wRAIrmvEjbdl"
      }
    },
    {
      "cell_type": "code",
      "source": [
        "# BB84 Protocol\n",
        "\n",
        "n = 20  # number of bits  # Define el número de bits a utilizar en la comunicación.\n",
        "\n",
        "# randomly choose Alice's bits and bases, and Bob's bases\n",
        "alice_bits = np.random.choice([0, 1], n)  # Genera un array de bits aleatorios (0 o 1) para Alice.\n",
        "alice_bases = np.random.choice([0, 1], n)  # Genera un array de bases aleatorias (0 o 1) para Alice.\n",
        "bob_bases = np.random.choice([0, 1], n)  # Genera un array de bases aleatorias (0 o 1) para Bob.\n",
        "bob_bits = np.zeros(len(alice_bits), dtype=int)  # Inicializa un array para almacenar los resultados de las mediciones de Bob.\n",
        "\n",
        "# simulator backend\n",
        "backend = Aer.get_backend('qasm_simulator')  # Establece el backend del simulador cuántico QASM.\n",
        "\n",
        "# loop through all bits\n",
        "for i in range(n):  # Itera a través de cada bit.\n",
        "\n",
        "    qc = QuantumCircuit(1, 0)  # Crea un circuito cuántico con un qubit y sin bits clásicos.\n",
        "\n",
        "    # bit flip if preparing the |1> state\n",
        "    if alice_bits[i] == 1:\n",
        "        qc.x(0)  # Aplica la puerta X (NOT cuántico) si el bit de Alice es |1>.\n",
        "\n",
        "    # H gate if X basis\n",
        "    if alice_bases[i] == 1:\n",
        "        qc.h(0)  # Aplica la puerta Hadamard si la base de Alice es X.\n",
        "\n",
        "    qc.barrier()  # Añade una barrera visual entre los pasos de Alice y Bob.\n",
        "\n",
        "    # H gate if X basis\n",
        "    if bob_bases[i] == 1:\n",
        "        qc.h(0)  # Aplica la puerta Hadamard si la base de Bob es X.\n",
        "\n",
        "    qc.measure_all()  # Mide todos los qubits en el circuito.\n",
        "\n",
        "    new_circuit = transpile(qc, backend)  # Transpila el circuito para optimizarlo para el backend.\n",
        "    job = backend.run(new_circuit, shots=1)  # Ejecuta el circuito en el backend, realizando una única medición.\n",
        "    results = job.result()  # Obtiene los resultados de la ejecución del circuito.\n",
        "    counts = results.get_counts()  # Extrae las cuentas (resultados de medición).\n",
        "\n",
        "    # save Bob's measurement result\n",
        "    bob_bits[i] = 0 if '0' in counts.keys() else 1\n",
        "    # Guarda el resultado de la medición de Bob: asigna '0' si se mide '0', de lo contrario asigna '1'.\n",
        "\n",
        "# Post-selection\n",
        "print(\"Measurement Results:\")  # Imprime un encabezado para los resultados de la medición.\n",
        "print(f\"Alice's bitstring: {alice_bits}\")  # Muestra la secuencia de bits generada por Alice.\n",
        "print(f\"  Bob's bitstring: {bob_bits}\")  # Muestra la secuencia de bits medidos por Bob.\n",
        "print()  # Imprime una línea en blanco para mayor claridad.\n",
        "\n",
        "print(\"Basis Comparison:\")  # Imprime un encabezado para la comparación de bases.\n",
        "print(f\"Alice's bases: {convert_to_basis_string(alice_bases)}\")  # Muestra las bases elegidas por Alice, convertidas a una representación legible.\n",
        "print(f\"  Bob's bases: {convert_to_basis_string(bob_bases)}\")  # Muestra las bases elegidas por Bob, convertidas a una representación legible.\n",
        "print()  # Imprime una línea en blanco para mayor claridad.\n",
        "\n",
        "# only keep bits where the basis is in agreement\n",
        "keep_idxs = alice_bases == bob_bases  # Crea un array booleano que indica dónde las bases de Alice y Bob coinciden.\n",
        "alice_key = alice_bits[keep_idxs]   # Filtra los bits de Alice donde las bases coinciden.\n",
        "bob_key = bob_bits[keep_idxs]   # Filtra los bits de Bob donde las bases coinciden.\n",
        "\n",
        "print(\"Keys:\")   # Imprime un encabezado para las claves finales.\n",
        "print(f\"Alice's key: {alice_key}\")   # Muestra la clave final de Alice.\n",
        "print(f\"  Bob's key: {bob_key}\")   # Muestra la clave final de Bob.\n",
        "print()   # Imprime una línea en blanco para mayor claridad.\n"
      ],
      "metadata": {
        "colab": {
          "base_uri": "https://localhost:8080/"
        },
        "id": "Eu1_lXOqjkyn",
        "outputId": "5cbaf8aa-a0ef-4c20-d9e8-217eeef0833f"
      },
      "execution_count": null,
      "outputs": [
        {
          "output_type": "stream",
          "name": "stdout",
          "text": [
            "Measurement Results:\n",
            "Alice's bitstring: [0 1 1 1 1 0 1 1 1 1 0 1 1 1 1 0 0 1 1 0]\n",
            "  Bob's bitstring: [0 1 1 0 1 0 0 1 1 1 1 1 1 1 1 0 0 1 1 0]\n",
            "\n",
            "Basis Comparison:\n",
            "Alice's bases: XXXZXXZZZZZZZZXXZXXX\n",
            "  Bob's bases: ZXZXXXXXZZXZXZXZZXZZ\n",
            "\n",
            "Keys:\n",
            "Alice's key: [1 1 0 1 1 1 1 1 0 1]\n",
            "  Bob's key: [1 1 0 1 1 1 1 1 0 1]\n",
            "\n"
          ]
        }
      ]
    },
    {
      "cell_type": "markdown",
      "source": [
        "# Añadiendo a Eva... >:)\n",
        "* En la práctica, el canal cuántico de Alice y Bob no es seguro. Por lo tanto, no saben qué ocurre desde el momento en que Alice envía el qubit hasta el momento en que Bob lo recibe. Podemos modelar esto como una \"caja negra\" donde Eve (nuestra espía) puede hacer algo nefasto...\n",
        "* Si Eve pudiera hacer una copia perfecta del qubit de Alice y enviar el qubit original a Bob, ¡entonces estaría bien! Podría simplemente almacenar el qubit, esperar a que Alice y Bob anuncien sus bases a través de un canal no seguro y luego medir sus qubits de copia en las mismas bases que Alice. Entonces tendría exactamente la misma clave que Alice y Bob, frustrando sus planes. Desafortunadamente para Eve, y afortunadamente para Alice y Bob, esto es imposible, gracias al Teorema de No Clonación.\n",
        "* Bien, Eve no puede copiar el qubit de Alice, pero podría intentar otras cosas. En los problemas a continuación, explore los ataques que Eve puede intentar hacer para conocer la clave de Alice y Bob."
      ],
      "metadata": {
        "id": "lszLCQHBkL_H"
      }
    },
    {
      "cell_type": "markdown",
      "source": [
        "# 1) Ataque de medición simple\n",
        "Lo más sencillo que podría intentar hacer Eve es medir el qubit de Alice y luego enviárselo a Bob. En el código que aparece a continuación, implementamos un ataque de este tipo.\n"
      ],
      "metadata": {
        "id": "n3wMatP5kyvW"
      }
    },
    {
      "cell_type": "code",
      "source": [
        "# BB84 Protocol with Eve (simple measurement attack)\n",
        "\n",
        "n = 5  # number of bits  # Define el número de bits a utilizar en la comunicación.\n",
        "\n",
        "# randomly choose Alice's bits and bases, and Bob's bases\n",
        "alice_bits = np.random.choice([0, 1], n)  # Genera un array de bits aleatorios (0 o 1) para Alice.\n",
        "alice_bases = np.random.choice([0, 1], n)  # Genera un array de bases aleatorias (0 o 1) para Alice.\n",
        "bob_bases = np.random.choice([0, 1], n)  # Genera un array de bases aleatorias (0 o 1) para Bob.\n",
        "bob_bits = np.zeros(len(alice_bits), dtype=int)  # Inicializa un array para almacenar los resultados de las mediciones de Bob.\n",
        "eve_bits = np.zeros(len(alice_bits), dtype=int)  # Inicializa un array para almacenar los resultados de las mediciones de Eve.\n",
        "\n",
        "# simulator backend\n",
        "backend = Aer.get_backend('qasm_simulator')  # Establece el backend del simulador cuántico QASM.\n",
        "# quantum register for our qubit\n",
        "qr = QuantumRegister(1, name=\"Qubit\")  # Crea un registro cuántico con un qubit.\n",
        "# create two classical registers -- one for Bob's measurement and one for Eve's\n",
        "c_Bob = ClassicalRegister(1, name='Bob')  # Crea un registro clásico para almacenar las mediciones de Bob.\n",
        "c_Eve = ClassicalRegister(1, name='Eve')  # Crea un registro clásico para almacenar las mediciones de Eve.\n",
        "\n",
        "# loop through all bits\n",
        "for i in range(n):  # Itera a través de cada bit.\n",
        "\n",
        "    print(f\"Bit #{i+1}\")  # Imprime el número del bit actual.\n",
        "    print(f\"Alice Bit: {alice_bits[i]}, Alice Basis: {'Z' if alice_bases[i] == 0 else 'X'}, Bob Basis: {'Z' if bob_bases[i] == 0 else 'X'}\")\n",
        "    # Imprime el bit y la base elegidos por Alice y la base elegida por Bob.\n",
        "\n",
        "    qc = QuantumCircuit(qr, c_Eve, c_Bob)  # Crea un circuito cuántico con un qubit y registros clásicos para Bob y Eve.\n",
        "\n",
        "    # bit flip if preparing the |1> state\n",
        "    if alice_bits[i] == 1:\n",
        "        qc.x(0)  # Aplica la puerta X (NOT cuántico) si el bit de Alice es |1>.\n",
        "\n",
        "    # H gate if X basis\n",
        "    if alice_bases[i] == 1:\n",
        "        qc.h(0)  # Aplica la puerta Hadamard si la base de Alice es X.\n",
        "\n",
        "    qc.barrier()  # Añade una barrera visual entre los pasos de Alice y Eve.\n",
        "\n",
        "    # Eve measures the qubit\n",
        "    qc.measure(qr, c_Eve)  # Eve mide el qubit y almacena el resultado en su registro clásico.\n",
        "\n",
        "    qc.barrier()  # Añade una barrera visual entre Eve y Bob.\n",
        "\n",
        "    # H gate if X basis\n",
        "    if bob_bases[i] == 1:\n",
        "        qc.h(0)  # Aplica la puerta Hadamard si la base de Bob es X.\n",
        "\n",
        "    qc.measure(qr, c_Bob)  # Bob mide el qubit y almacena el resultado en su registro clásico.\n",
        "\n",
        "    display(qc.draw(\"mpl\"))  # Dibuja y muestra el circuito cuántico en formato gráfico utilizando Matplotlib.\n",
        "\n",
        "    # simulate for 1 shot\n",
        "    new_circuit = transpile(qc, backend)  # Transpila el circuito para optimizarlo para el backend.\n",
        "    job = backend.run(new_circuit, shots=1)  # Ejecuta el circuito en el backend, realizando una única medición.\n",
        "    results = job.result()  # Obtiene los resultados de la ejecución del circuito.\n",
        "    counts = results.get_counts()  # Extrae las cuentas (resultados de medición).\n",
        "\n",
        "    # extract counts -- Bob's is first because he measured last (potentially counterintuitive ordering)\n",
        "    bob_counts = {key[0]: value for key, value in counts.items()}   # Extrae los resultados medidos por Bob.\n",
        "    eve_counts = {key[-1]: value for key, value in counts.items()}   # Extrae los resultados medidos por Eve.\n",
        "\n",
        "    # save Bob and Eve's measurement results\n",
        "    bob_bits[i] = 0 if '0' in bob_counts.keys() else 1\n",
        "    # Guarda el resultado de la medición de Bob: asigna '0' si se mide '0', de lo contrario asigna '1'.\n",
        "\n",
        "    eve_bits[i] = 0 if '0' in eve_counts.keys() else 1\n",
        "    # Guarda el resultado de la medición de Eve: asigna '0' si se mide '0', de lo contrario asigna '1'.\n",
        "\n",
        "    print(f\"Bob measured {bob_bits[i]:.0f}\")   # Imprime el resultado medido por Bob.\n",
        "    print(f\"Eve measured {eve_bits[i]:.0f}\")   # Imprime el resultado medido por Eve.\n",
        "    print()   # Imprime una línea en blanco para mayor claridad.\n"
      ],
      "metadata": {
        "colab": {
          "base_uri": "https://localhost:8080/",
          "height": 1000
        },
        "id": "dTDu4YqUk7Jg",
        "outputId": "76ff3e91-585e-442f-83e3-721bfac84b10"
      },
      "execution_count": null,
      "outputs": [
        {
          "output_type": "stream",
          "name": "stdout",
          "text": [
            "Bit #1\n",
            "Alice Bit: 0, Alice Basis: Z, Bob Basis: X\n"
          ]
        },
        {
          "output_type": "display_data",
          "data": {
            "text/plain": [
              "<Figure size 580.397x284.278 with 1 Axes>"
            ],
            "image/png": "[encoded data removed]"
          },
          "metadata": {}
        },
        {
          "output_type": "stream",
          "name": "stdout",
          "text": [
            "Bob measured 0\n",
            "Eve measured 0\n",
            "\n",
            "Bit #2\n",
            "Alice Bit: 0, Alice Basis: Z, Bob Basis: Z\n"
          ]
        },
        {
          "output_type": "display_data",
          "data": {
            "text/plain": [
              "<Figure size 496.785x284.278 with 1 Axes>"
            ],
            "image/png": "[encoded data removed]"
          },
          "metadata": {}
        },
        {
          "output_type": "stream",
          "name": "stdout",
          "text": [
            "Bob measured 0\n",
            "Eve measured 0\n",
            "\n",
            "Bit #3\n",
            "Alice Bit: 0, Alice Basis: X, Bob Basis: X\n"
          ]
        },
        {
          "output_type": "display_data",
          "data": {
            "text/plain": [
              "<Figure size 664.008x284.278 with 1 Axes>"
            ],
            "image/png": "[encoded data removed]"
          },
          "metadata": {}
        },
        {
          "output_type": "stream",
          "name": "stdout",
          "text": [
            "Bob measured 1\n",
            "Eve measured 1\n",
            "\n",
            "Bit #4\n",
            "Alice Bit: 1, Alice Basis: Z, Bob Basis: X\n"
          ]
        },
        {
          "output_type": "display_data",
          "data": {
            "text/plain": [
              "<Figure size 664.008x284.278 with 1 Axes>"
            ],
            "image/png": "[encoded data removed]"
          },
          "metadata": {}
        },
        {
          "output_type": "stream",
          "name": "stdout",
          "text": [
            "Bob measured 0\n",
            "Eve measured 1\n",
            "\n",
            "Bit #5\n",
            "Alice Bit: 1, Alice Basis: Z, Bob Basis: Z\n"
          ]
        },
        {
          "output_type": "display_data",
          "data": {
            "text/plain": [
              "<Figure size 580.397x284.278 with 1 Axes>"
            ],
            "image/png": "[encoded data removed]"
          },
          "metadata": {}
        },
        {
          "output_type": "stream",
          "name": "stdout",
          "text": [
            "Bob measured 1\n",
            "Eve measured 1\n",
            "\n"
          ]
        }
      ]
    },
    {
      "cell_type": "markdown",
      "source": [
        "# 2) Protocolo completo - Ataque de medición simple\n",
        "A continuación se muestra el protocolo completo con posprocesamiento. Puedes jugar con él para hacerte una idea de cómo falla el ataque de Eve.\n"
      ],
      "metadata": {
        "id": "jcrDi-vglbk-"
      }
    },
    {
      "cell_type": "code",
      "source": [
        "# BB84 Protocol\n",
        "\n",
        "n = 20  # number of bits  # Define el número de bits a utilizar en la comunicación.\n",
        "\n",
        "# randomly choose Alice's bits and bases, and Bob's bases\n",
        "alice_bits = np.random.choice([0, 1], n)  # Genera un array de bits aleatorios (0 o 1) para Alice.\n",
        "alice_bases = np.random.choice([0, 1], n)  # Genera un array de bases aleatorias (0 o 1) para Alice.\n",
        "bob_bases = np.random.choice([0, 1], n)  # Genera un array de bases aleatorias (0 o 1) para Bob.\n",
        "bob_bits = np.zeros(len(alice_bits), dtype=int)  # Inicializa un array para almacenar los resultados de las mediciones de Bob.\n",
        "eve_bits = np.zeros(len(alice_bits), dtype=int)  # Inicializa un array para almacenar los resultados de las mediciones de Eve.\n",
        "\n",
        "# simulator backend\n",
        "backend = Aer.get_backend('qasm_simulator')  # Establece el backend del simulador cuántico QASM.\n",
        "# quantum register for our qubit\n",
        "qr = QuantumRegister(1, name=\"Qubit\")  # Crea un registro cuántico con un qubit.\n",
        "# create two classical registers -- one for Bob's measurement and one for Eve's\n",
        "c_Bob = ClassicalRegister(1, name='Bob')  # Crea un registro clásico para almacenar las mediciones de Bob.\n",
        "c_Eve = ClassicalRegister(1, name='Eve')  # Crea un registro clásico para almacenar las mediciones de Eve.\n",
        "\n",
        "# loop through all bits\n",
        "for i in range(n):  # Itera a través de cada bit.\n",
        "\n",
        "    qc = QuantumCircuit(qr, c_Eve, c_Bob)  # Crea un circuito cuántico con un qubit y registros clásicos para Bob y Eve.\n",
        "\n",
        "    # bit flip if preparing the |1> state\n",
        "    if alice_bits[i] == 1:\n",
        "        qc.x(0)  # Aplica la puerta X (NOT cuántico) si el bit de Alice es |1>.\n",
        "\n",
        "    # H gate if X basis\n",
        "    if alice_bases[i] == 1:\n",
        "        qc.h(0)  # Aplica la puerta Hadamard si la base de Alice es X.\n",
        "\n",
        "    qc.barrier()  # Añade una barrera visual entre los pasos de Alice y Eve.\n",
        "\n",
        "    # Eve measures the qubit\n",
        "    qc.measure(qr, c_Eve)  # Eve mide el qubit y almacena el resultado en su registro clásico.\n",
        "\n",
        "    qc.barrier()  # Añade una barrera visual entre Eve y Bob.\n",
        "\n",
        "    # H gate if X basis\n",
        "    if bob_bases[i] == 1:\n",
        "        qc.h(0)  # Aplica la puerta Hadamard si la base de Bob es X.\n",
        "\n",
        "    qc.measure(qr, c_Bob)  # Bob mide el qubit y almacena el resultado en su registro clásico.\n",
        "\n",
        "    # simulate for 1 shot\n",
        "    new_circuit = transpile(qc, backend)  # Transpila el circuito para optimizarlo para el backend.\n",
        "    job = backend.run(new_circuit, shots=1)  # Ejecuta el circuito en el backend, realizando una única medición.\n",
        "    results = job.result()  # Obtiene los resultados de la ejecución del circuito.\n",
        "    counts = results.get_counts()  # Extrae las cuentas (resultados de medición).\n",
        "\n",
        "    # extract counts -- Bob's is first because he measured last (potentially counterintuitive ordering)\n",
        "    bob_counts = {key[0]: value for key, value in counts.items()}   # Extrae los resultados medidos por Bob.\n",
        "    eve_counts = {key[-1]: value for key, value in counts.items()}   # Extrae los resultados medidos por Eve.\n",
        "\n",
        "    # save Bob and Eve's measurement results\n",
        "    bob_bits[i] = 0 if '0' in bob_counts.keys() else 1\n",
        "    # Guarda el resultado de la medición de Bob: asigna '0' si se mide '0', de lo contrario asigna '1'.\n",
        "\n",
        "    eve_bits[i] = 0 if '0' in eve_counts.keys() else 1\n",
        "    # Guarda el resultado de la medición de Eve: asigna '0' si se mide '0', de lo contrario asigna '1'.\n",
        "\n",
        "# Post-selection\n",
        "print(\"Measurement Results:\")  # Imprime un encabezado para los resultados de la medición.\n",
        "print(f\"Alice's bitstring: {alice_bits}\")  # Muestra la secuencia de bits generada por Alice.\n",
        "print(f\"  Bob's bitstring: {bob_bits}\")   # Muestra la secuencia de bits medidos por Bob.\n",
        "print(f\"  Eve's bitstring: {eve_bits}\")   # Muestra la secuencia de bits medidos por Eve.\n",
        "print()   # Imprime una línea en blanco para mayor claridad.\n",
        "\n",
        "print(\"Basis Comparison:\")   # Imprime un encabezado para la comparación de bases.\n",
        "print(f\"Alice's bases: {convert_to_basis_string(alice_bases)}\")   # Muestra las bases elegidas por Alice, convertidas a una representación legible.\n",
        "print(f\"  Bob's bases: {convert_to_basis_string(bob_bases)}\")   # Muestra las bases elegidas por Bob, convertidas a una representación legible.\n",
        "print()   # Imprime una línea en blanco para mayor claridad.\n",
        "\n",
        "# only keep bits where the basis is in agreement\n",
        "keep_idxs = alice_bases == bob_bases   # Crea un array booleano que indica dónde las bases de Alice y Bob coinciden.\n",
        "alice_key = alice_bits[keep_idxs]   # Filtra los bits de Alice donde las bases coinciden.\n",
        "bob_key = bob_bits[keep_idxs]   # Filtra los bits de Bob donde las bases coinciden.\n",
        "# bases are compared over a public channel, so eve keeps the same indexed bits\n",
        "eve_key = eve_bits[keep_idxs]   # Filtra los bits de Eve donde las bases coinciden.\n",
        "\n",
        "print(\"Keys:\")   # Imprime un encabezado para las claves finales.\n",
        "print(f\"Alice's key: {alice_key}\")   # Muestra la clave final de Alice.\n",
        "print(f\"  Bob's key: {bob_key}\")   # Muestra la clave final de Bob.\n",
        "print(f\"  Eve's key: {eve_key}\")   # Muestra la clave final de Eve (lo que ha interceptado).\n",
        "print()   # Imprime una línea en blanco para mayor claridad.\n"
      ],
      "metadata": {
        "colab": {
          "base_uri": "https://localhost:8080/"
        },
        "id": "wvvEw8JRllCr",
        "outputId": "d502824d-ee0a-4eb5-8390-79ef229c3a98"
      },
      "execution_count": null,
      "outputs": [
        {
          "output_type": "stream",
          "name": "stdout",
          "text": [
            "Measurement Results:\n",
            "Alice's bitstring: [0 0 0 1 0 0 1 0 1 0 1 1 0 1 0 1 0 0 1 0]\n",
            "  Bob's bitstring: [1 1 0 1 0 0 0 0 1 1 1 1 1 1 0 1 0 0 0 0]\n",
            "  Eve's bitstring: [1 0 0 1 0 0 0 0 1 0 1 1 1 1 0 1 0 0 0 0]\n",
            "\n",
            "Basis Comparison:\n",
            "Alice's bases: XZZZXZXXZZXZXZZZZZXX\n",
            "  Bob's bases: ZXZXZZZZZXZZZZZZXZZZ\n",
            "\n",
            "Keys:\n",
            "Alice's key: [0 0 1 1 1 0 1 0]\n",
            "  Bob's key: [0 0 1 1 1 0 1 0]\n",
            "  Eve's key: [0 0 1 1 1 0 1 0]\n",
            "\n"
          ]
        }
      ]
    },
    {
      "cell_type": "markdown",
      "source": [],
      "metadata": {
        "id": "s7v0Q3j8kxZ6"
      }
    }
  ]
}