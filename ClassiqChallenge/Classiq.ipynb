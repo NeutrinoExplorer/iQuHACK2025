{
  "nbformat": 4,
  "nbformat_minor": 0,
  "metadata": {
    "colab": {
      "provenance": [],
      "authorship_tag": "ABX9TyOrMLgsnsH7ihAPsWDhhcSR",
      "include_colab_link": true
    },
    "kernelspec": {
      "name": "python3",
      "display_name": "Python 3"
    },
    "language_info": {
      "name": "python"
    }
  },
  "cells": [
    {
      "cell_type": "markdown",
      "metadata": {
        "id": "view-in-github",
        "colab_type": "text"
      },
      "source": [
        "<a href=\"https://colab.research.google.com/github/NeutrinoExplorer/iQuHACK2025/blob/main/ClassiqChallenge/Classiq.ipynb\" target=\"_parent\"><img src=\"https://colab.research.google.com/assets/colab-badge.svg\" alt=\"Open In Colab\"/></a>"
      ]
    },
    {
      "cell_type": "code",
      "source": [
        "# Install required dependencies\n",
        "!pip install classiq\n",
        "\n",
        "# Import necessary libraries\n",
        "from classiq import qfunc, QNum, hadamard_transform, control, RY, QBit\n",
        "from classiq.execution import execute\n",
        "from classiq.modeling import create_model, ExecutionPreferences, Constraints, Preferences\n",
        "from classiq.backends import ClassiqBackendPreferences, ClassiqSimulatorBackendNames\n",
        "from classiq.visualization import show\n",
        "\n",
        "# Function to create the Gaussian state preparation\n",
        "def create_solution(resolution: int):\n",
        "    fraction_digits = resolution - 2\n",
        "    EXP_RATE = 1\n",
        "\n",
        "    @qfunc\n",
        "    def prepare_gaussian(x: QNum):\n",
        "        # Step 1: Apply Hadamard transform to create superposition\n",
        "        hadamard_transform(x)\n",
        "\n",
        "        # Step 2: Apply controlled rotations to create the Gaussian distribution\n",
        "        for i in range(x.size):\n",
        "            control(x[i], lambda: RY(2 * EXP_RATE * (2 ** (-i - 1)), x[i]))\n",
        "\n",
        "    return prepare_gaussian\n",
        "\n",
        "# Function to create the quantum program\n",
        "def create_qprog(prepare_gaussian_function, resolution: int, num_shots: int=1, optimization_parameter: str=\"CX\", stage=int):\n",
        "    fraction_digits = resolution - 2\n",
        "\n",
        "    @qfunc\n",
        "    def main(x: QNum[resolution]):\n",
        "        # Allocate the quantum variable x with the specified resolution\n",
        "        allocate(x.size, x)\n",
        "\n",
        "        # Prepare Gaussian state\n",
        "        prepare_gaussian_function(x)\n",
        "\n",
        "    # Backend preferences for the state vector simulator\n",
        "    backend_preferences = ClassiqBackendPreferences(\n",
        "        backend_name=ClassiqSimulatorBackendNames.SIMULATOR_STATEVECTOR\n",
        "    )\n",
        "\n",
        "    # Generate the quantum model based on the specified stage\n",
        "    if stage == 1:\n",
        "        qmod = create_model(\n",
        "            main,\n",
        "            execution_preferences=ExecutionPreferences(\n",
        "                num_shots=num_shots, backend_preferences=backend_preferences\n",
        "            ),\n",
        "            constraints=Constraints(\n",
        "                max_width=18, optimization_parameter=optimization_parameter\n",
        "            ),\n",
        "        )\n",
        "    elif stage == 2:\n",
        "        qmod = create_model(\n",
        "            main,\n",
        "            preferences=Preferences(timeout_seconds=1000),\n",
        "            execution_preferences=ExecutionPreferences(\n",
        "                num_shots=num_shots, backend_preferences=backend_preferences\n",
        "            ),\n",
        "            constraints=Constraints(\n",
        "                max_width=127, optimization_parameter=optimization_parameter\n",
        "            ),\n",
        "        )\n",
        "    else:\n",
        "        return \"Error: The `stage` variable should be set as an integer (1 or 2).\"\n",
        "\n",
        "    # Synthesize the quantum program\n",
        "    qprog = synthesize(qmod)\n",
        "\n",
        "    return qprog\n",
        "\n",
        "# Creating the quantum program for stage 1\n",
        "resolution_stage_1 = 8  # Fixed resolution\n",
        "qprog_stage_1 = create_qprog(create_solution(resolution_stage_1), resolution_stage_1, stage=1)\n",
        "\n",
        "# Display the quantum circuit\n",
        "show(qprog_stage_1)\n",
        "\n",
        "# Execute the quantum program\n",
        "result_stage_1 = execute(qprog_stage_1).get_sample_result()\n",
        "\n",
        "# Output the parsed state vector\n",
        "print(result_stage_1.parsed_state_vector)\n"
      ],
      "metadata": {
        "id": "nmTA_zn5JAo8"
      },
      "execution_count": null,
      "outputs": []
    }
  ]
}